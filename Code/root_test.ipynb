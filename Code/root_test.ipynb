{
 "cells": [
  {
   "cell_type": "code",
   "execution_count": 1,
   "metadata": {},
   "outputs": [],
   "source": [
    "%matplotlib inline"
   ]
  },
  {
   "cell_type": "code",
   "execution_count": 10,
   "metadata": {},
   "outputs": [],
   "source": [
    "import pandas as pd\n",
    "import ete3\n",
    "import glob\n",
    "import numpy as np\n",
    "import random\n",
    "import rooting_methods_ete3\n",
    "\n",
    "from matplotlib import pyplot as plt"
   ]
  },
  {
   "cell_type": "markdown",
   "metadata": {},
   "source": [
    "# Assess accuracies of original MAD algorithm/implementation\n",
    "\n",
    "This is just looking at the full, raw trees without any pruning"
   ]
  },
  {
   "cell_type": "code",
   "execution_count": 944,
   "metadata": {},
   "outputs": [
    {
     "name": "stdout",
     "output_type": "stream",
     "text": [
      "91 176\n"
     ]
    }
   ],
   "source": [
    "success = 0\n",
    "attempt = 0\n",
    "for mad_tree_file in glob.glob('../Data/OMA_orthologs/5204_4890/*.True.newick.rooted'):\n",
    "# for mad_tree_file in glob.glob('../Data/OMA_orthologs/5204_4890_33511_33317/*.True.newick.rooted'):\n",
    "# for mad_tree_file in glob.glob('../Data/OMA_orthologs/5204_4890_33511_33317_33090/*.True.newick.rooted'):\n",
    "    \n",
    "    true_tree = ete3.Tree(mad_tree_file.split('.rooted')[0], format=1)\n",
    "    mad_tree = ete3.Tree(mad_tree_file)\n",
    "    attempt += 1\n",
    "    lside_true = set([i.name for i in true_tree.children[0].get_leaves()])\n",
    "    rside_true = set([i.name for i in true_tree.children[1].get_leaves()])\n",
    "    lside_mad = set([i.name for i in mad_tree.children[0].get_leaves()])\n",
    "    rside_mad = set([i.name for i in mad_tree.children[1].get_leaves()])\n",
    "    \n",
    "    if (len(lside_true.union(lside_mad))-len(lside_true) == 0 and\\\n",
    "        len(rside_true.union(rside_mad))-len(rside_true) == 0) or\\\n",
    "       (len(lside_true.union(rside_mad))-len(lside_true) == 0 and\\\n",
    "        len(rside_true.union(lside_mad))-len(rside_true) == 0):\n",
    "        success += 1\n",
    "print(success, attempt)"
   ]
  },
  {
   "cell_type": "code",
   "execution_count": 916,
   "metadata": {},
   "outputs": [
    {
     "name": "stdout",
     "output_type": "stream",
     "text": [
      "40 399\n"
     ]
    }
   ],
   "source": [
    "success = 0\n",
    "attempt = 0\n",
    "# for true_tree_file in glob.glob('../Data/OMA_orthologs/5204_4890/*.True.newick'):\n",
    "# for true_tree_file in glob.glob('../Data/OMA_orthologs/5204_4890_33511_33317/*.True.newick'):\n",
    "for true_tree_file in glob.glob('../Data/OMA_orthologs/5204_4890_33511_33317_33090/*.True.newick')[:399]:\n",
    "    true_tree = ete3.Tree(true_tree_file, format=1)\n",
    "    test_tree = ete3.Tree(true_tree_file, format=1)\n",
    "    rooting_methods_ete3.MP_root_ete3(test_tree)\n",
    "    assert set([i.name for i in true_tree.get_leaves()])==set([i.name for i in test_tree.get_leaves()])\n",
    "    attempt += 1\n",
    "    \n",
    "    lside_true = set([i.name for i in true_tree.children[0].get_leaves()])\n",
    "    rside_true = set([i.name for i in true_tree.children[1].get_leaves()])\n",
    "    lside_test = set([i.name for i in test_tree.children[0].get_leaves()])\n",
    "    rside_test = set([i.name for i in test_tree.children[1].get_leaves()])\n",
    "    \n",
    "    if (len(lside_true.union(lside_test))-len(lside_true) == 0 and\\\n",
    "        len(rside_true.union(rside_test))-len(rside_true) == 0) or\\\n",
    "       (len(lside_true.union(rside_test))-len(lside_true) == 0 and\\\n",
    "        len(rside_true.union(lside_test))-len(rside_true) == 0):\n",
    "        success += 1\n",
    "print(success, attempt)\n"
   ]
  },
  {
   "cell_type": "code",
   "execution_count": null,
   "metadata": {},
   "outputs": [],
   "source": []
  },
  {
   "cell_type": "code",
   "execution_count": null,
   "metadata": {},
   "outputs": [],
   "source": []
  },
  {
   "cell_type": "code",
   "execution_count": null,
   "metadata": {},
   "outputs": [],
   "source": []
  },
  {
   "cell_type": "code",
   "execution_count": 265,
   "metadata": {},
   "outputs": [],
   "source": [
    "def is_correct(tree):\n",
    "    lside = [i.name[:4] for i in tree.children[0].traverse() if not i.is_leaf()]\n",
    "    rside = [i.name[:4] for i in tree.children[1].traverse() if not i.is_leaf()]\n",
    "    if max([len(set(lside)), len(set(rside))]) == 1:\n",
    "        return 1\n",
    "    else:\n",
    "        return 0"
   ]
  },
  {
   "cell_type": "code",
   "execution_count": 20,
   "metadata": {},
   "outputs": [
    {
     "name": "stdout",
     "output_type": "stream",
     "text": [
      "Problem with ../Data/OMA_orthologs/5204_4890/898733.True.newick, which has 2 children after pruning\n",
      "Problem with ../Data/OMA_orthologs/5204_4890/822912.True.newick, which has 2 children after pruning\n",
      "Problem with ../Data/OMA_orthologs/5204_4890/741963.True.newick, which has 2 children after pruning\n",
      "Problem with ../Data/OMA_orthologs/5204_4890/728438.True.newick, which has 2 children after pruning\n",
      "Problem with ../Data/OMA_orthologs/5204_4890/575069.True.newick, which has 2 children after pruning\n",
      "Problem with ../Data/OMA_orthologs/5204_4890/888339.True.newick, which has 2 children after pruning\n",
      "Problem with ../Data/OMA_orthologs/5204_4890/828141.True.newick, which has 2 children after pruning\n",
      "Problem with ../Data/OMA_orthologs/5204_4890/691006.True.newick, which has 2 children after pruning\n",
      "Problem with ../Data/OMA_orthologs/5204_4890/695375.True.newick, which has 2 children after pruning\n",
      "Problem with ../Data/OMA_orthologs/5204_4890/721706.True.newick, which has 2 children after pruning\n",
      "Problem with ../Data/OMA_orthologs/5204_4890/915469.True.newick, which has 2 children after pruning\n",
      "Problem with ../Data/OMA_orthologs/5204_4890/522580.True.newick, which has 2 children after pruning\n",
      "Problem with ../Data/OMA_orthologs/5204_4890/892096.True.newick, which has 2 children after pruning\n",
      "Problem with ../Data/OMA_orthologs/5204_4890/855340.True.newick, which has 2 children after pruning\n",
      "Problem with ../Data/OMA_orthologs/5204_4890/896267.True.newick, which has 2 children after pruning\n",
      "Problem with ../Data/OMA_orthologs/5204_4890/907056.True.newick, which has 2 children after pruning\n",
      "Problem with ../Data/OMA_orthologs/5204_4890/809843.True.newick, which has 2 children after pruning\n",
      "Problem with ../Data/OMA_orthologs/5204_4890/856261.True.newick, which has 2 children after pruning\n",
      "Problem with ../Data/OMA_orthologs/5204_4890/707374.True.newick, which has 2 children after pruning\n",
      "Problem with ../Data/OMA_orthologs/5204_4890/216086.True.newick, which has 2 children after pruning\n",
      "Problem with ../Data/OMA_orthologs/5204_4890/572173.True.newick, which has 2 children after pruning\n",
      "Problem with ../Data/OMA_orthologs/5204_4890/888107.True.newick, which has 2 children after pruning\n",
      "Problem with ../Data/OMA_orthologs/5204_4890/518083.True.newick, which has 2 children after pruning\n",
      "Problem with ../Data/OMA_orthologs/5204_4890/913326.True.newick, which has 2 children after pruning\n",
      "Problem with ../Data/OMA_orthologs/5204_4890/785166.True.newick, which has 2 children after pruning\n",
      "Problem with ../Data/OMA_orthologs/5204_4890/800799.True.newick, which has 2 children after pruning\n",
      "Problem with ../Data/OMA_orthologs/5204_4890/900236.True.newick, which has 2 children after pruning\n",
      "Problem with ../Data/OMA_orthologs/5204_4890/572517.True.newick, which has 2 children after pruning\n",
      "Problem with ../Data/OMA_orthologs/5204_4890/902529.True.newick, which has 2 children after pruning\n",
      "Problem with ../Data/OMA_orthologs/5204_4890/798425.True.newick, which has 2 children after pruning\n",
      "Problem with ../Data/OMA_orthologs/5204_4890/854963.True.newick, which has 2 children after pruning\n",
      "Problem with ../Data/OMA_orthologs/5204_4890/538618.True.newick, which has 2 children after pruning\n",
      "Problem with ../Data/OMA_orthologs/5204_4890/854902.True.newick, which has 2 children after pruning\n",
      "Problem with ../Data/OMA_orthologs/5204_4890/875835.True.newick, which has 2 children after pruning\n",
      "Problem with ../Data/OMA_orthologs/5204_4890/900638.True.newick, which has 2 children after pruning\n",
      "Problem with ../Data/OMA_orthologs/5204_4890/572467.True.newick, which has 2 children after pruning\n",
      "Problem with ../Data/OMA_orthologs/5204_4890/893525.True.newick, which has 2 children after pruning\n",
      "Problem with ../Data/OMA_orthologs/5204_4890/908788.True.newick, which has 2 children after pruning\n",
      "Problem with ../Data/OMA_orthologs/5204_4890/895866.True.newick, which has 2 children after pruning\n",
      "Problem with ../Data/OMA_orthologs/5204_4890/572026.True.newick, which has 2 children after pruning\n",
      "Problem with ../Data/OMA_orthologs/5204_4890/572259.True.newick, which has 2 children after pruning\n",
      "Problem with ../Data/OMA_orthologs/5204_4890/578783.True.newick, which has 2 children after pruning\n",
      "Problem with ../Data/OMA_orthologs/5204_4890/571878.True.newick, which has 2 children after pruning\n",
      "Problem with ../Data/OMA_orthologs/5204_4890/888107.True.newick, which has 2 children after pruning\n",
      "Problem with ../Data/OMA_orthologs/5204_4890/899215.True.newick, which has 2 children after pruning\n",
      "Problem with ../Data/OMA_orthologs/5204_4890/865576.True.newick, which has 2 children after pruning\n",
      "Problem with ../Data/OMA_orthologs/5204_4890/574436.True.newick, which has 2 children after pruning\n",
      "Problem with ../Data/OMA_orthologs/5204_4890/805785.True.newick, which has 2 children after pruning\n",
      "Problem with ../Data/OMA_orthologs/5204_4890/518082.True.newick, which has 2 children after pruning\n",
      "Problem with ../Data/OMA_orthologs/5204_4890/571958.True.newick, which has 2 children after pruning\n",
      "Problem with ../Data/OMA_orthologs/5204_4890/889988.True.newick, which has 2 children after pruning\n",
      "Problem with ../Data/OMA_orthologs/5204_4890/845943.True.newick, which has 2 children after pruning\n",
      "Problem with ../Data/OMA_orthologs/5204_4890/753295.True.newick, which has 2 children after pruning\n",
      "Problem with ../Data/OMA_orthologs/5204_4890/916525.True.newick, which has 2 children after pruning\n",
      "Problem with ../Data/OMA_orthologs/5204_4890/877125.True.newick, which has 2 children after pruning\n",
      "32668 99945\n"
     ]
    }
   ],
   "source": [
    "outcomes = []\n",
    "lside_leaves = []\n",
    "rside_leaves = []\n",
    "for i in range(100000):\n",
    "    ###Uniformly select a tree to use from this dataset\n",
    "    true_tree_file = random.choice(glob.glob('../Data/OMA_orthologs/5204_4890/*.True.newick'))\n",
    "    true_tree = ete3.Tree(true_tree_file, format=1)\n",
    "    \n",
    "    ###Reload that tree with a different name\n",
    "    test_tree = ete3.Tree(true_tree_file, format=1)\n",
    "    \n",
    "    ###Get nodes to delete, sampling uniformly from 1 to n\n",
    "    ln_to_remove = random.choice(list(range(0, len(test_tree.children[0].get_leaves()))))\n",
    "    rn_to_remove = random.choice(list(range(0, len(test_tree.children[1].get_leaves()))))\n",
    "    l_to_remove = random.sample(test_tree.children[0].get_leaves(), ln_to_remove)\n",
    "    r_to_remove = random.sample(test_tree.children[1].get_leaves(), rn_to_remove)\n",
    "    ###Actually remove said nodes\n",
    "    for node in l_to_remove + r_to_remove:\n",
    "        node.delete()\n",
    "    ###Possibly swap the topology so that it's consistent with the original tree\n",
    "    if ('IntA' not in test_tree.children[0].name) and ('IntB' not in test_tree.children[1].name):\n",
    "        test_tree.swap_children()\n",
    "        \n",
    "    if ('IntA' not in test_tree.children[0].name) and ('IntB' not in test_tree.children[1].name):\n",
    "        print('Problem with {}, which has {} children after pruning'.format(true_tree_file,\\\n",
    "                                                                            len(test_tree.get_leaves())))\n",
    "        continue\n",
    "\n",
    "    lside_leaves.append(len(test_tree.children[0].get_leaves()))\n",
    "    rside_leaves.append(len(test_tree.children[1].get_leaves()))\n",
    "    \n",
    "    rooting_methods_ete3.MP_root_ete3(test_tree)\n",
    "    \n",
    "    lside_true = set([i.name for i in true_tree.children[0].get_leaves()])\n",
    "    rside_true = set([i.name for i in true_tree.children[1].get_leaves()])\n",
    "    lside_test = set([i.name for i in test_tree.children[0].get_leaves()])\n",
    "    rside_test = set([i.name for i in test_tree.children[1].get_leaves()])\n",
    "    \n",
    "    if (len(lside_true.union(lside_test))-len(lside_true) == 0 and\\\n",
    "        len(rside_true.union(rside_test))-len(rside_true) == 0) or\\\n",
    "       (len(lside_true.union(rside_test))-len(lside_true) == 0 and\\\n",
    "        len(rside_true.union(lside_test))-len(rside_true) == 0):\n",
    "        outcomes.append(1)\n",
    "    else:\n",
    "        outcomes.append(0)\n",
    "print(np.sum(outcomes), len(outcomes))"
   ]
  },
  {
   "cell_type": "code",
   "execution_count": 21,
   "metadata": {},
   "outputs": [
    {
     "data": {
      "text/html": [
       "<div>\n",
       "<style scoped>\n",
       "    .dataframe tbody tr th:only-of-type {\n",
       "        vertical-align: middle;\n",
       "    }\n",
       "\n",
       "    .dataframe tbody tr th {\n",
       "        vertical-align: top;\n",
       "    }\n",
       "\n",
       "    .dataframe thead th {\n",
       "        text-align: right;\n",
       "    }\n",
       "</style>\n",
       "<table border=\"1\" class=\"dataframe\">\n",
       "  <thead>\n",
       "    <tr style=\"text-align: right;\">\n",
       "      <th></th>\n",
       "      <th>X</th>\n",
       "      <th>Y</th>\n",
       "      <th>Z</th>\n",
       "    </tr>\n",
       "  </thead>\n",
       "  <tbody>\n",
       "    <tr>\n",
       "      <th>0</th>\n",
       "      <td>7</td>\n",
       "      <td>31</td>\n",
       "      <td>0</td>\n",
       "    </tr>\n",
       "    <tr>\n",
       "      <th>1</th>\n",
       "      <td>25</td>\n",
       "      <td>56</td>\n",
       "      <td>0</td>\n",
       "    </tr>\n",
       "    <tr>\n",
       "      <th>2</th>\n",
       "      <td>11</td>\n",
       "      <td>64</td>\n",
       "      <td>0</td>\n",
       "    </tr>\n",
       "    <tr>\n",
       "      <th>3</th>\n",
       "      <td>25</td>\n",
       "      <td>29</td>\n",
       "      <td>1</td>\n",
       "    </tr>\n",
       "    <tr>\n",
       "      <th>4</th>\n",
       "      <td>8</td>\n",
       "      <td>56</td>\n",
       "      <td>1</td>\n",
       "    </tr>\n",
       "  </tbody>\n",
       "</table>\n",
       "</div>"
      ],
      "text/plain": [
       "    X   Y  Z\n",
       "0   7  31  0\n",
       "1  25  56  0\n",
       "2  11  64  0\n",
       "3  25  29  1\n",
       "4   8  56  1"
      ]
     },
     "execution_count": 21,
     "metadata": {},
     "output_type": "execute_result"
    }
   ],
   "source": [
    "results_df = pd.DataFrame({'X': lside_leaves, 'Y': rside_leaves, 'Z': outcomes})\n",
    "results_df.head()"
   ]
  },
  {
   "cell_type": "code",
   "execution_count": 22,
   "metadata": {},
   "outputs": [],
   "source": [
    "l_counts, l_bins = np.histogram(lside_leaves, 10)\n",
    "r_counts, r_bins = np.histogram(rside_leaves, 20)"
   ]
  },
  {
   "cell_type": "code",
   "execution_count": 31,
   "metadata": {},
   "outputs": [],
   "source": [
    "success_matrix = []\n",
    "attempt_matrix = []\n",
    "for lindex, lside in enumerate(l_bins[:-1]):\n",
    "    rside = l_bins[lindex+1]\n",
    "    success_row = []\n",
    "    attempt_row = []\n",
    "    for rindex, dside in enumerate(r_bins[:-1]):\n",
    "        uside = r_bins[rindex+1]\n",
    "        tempy = results_df[(results_df['X']>=lside)&(results_df['X']<rside)\\\n",
    "                          &(results_df['Y']>=dside)&(results_df['Y']<uside)]\n",
    "        if tempy.shape[0] > 100:\n",
    "            success_row.append(tempy['Z'].sum())\n",
    "            attempt_row.append(tempy.shape[0])\n",
    "        else:\n",
    "            success_row.append(0)\n",
    "            attempt_row.append(0)\n",
    "    success_matrix.append(success_row)\n",
    "    attempt_matrix.append(attempt_row)"
   ]
  },
  {
   "cell_type": "code",
   "execution_count": 32,
   "metadata": {},
   "outputs": [
    {
     "name": "stderr",
     "output_type": "stream",
     "text": [
      "/home/adhock/anaconda3/lib/python3.7/site-packages/ipykernel_launcher.py:2: RuntimeWarning: invalid value encountered in true_divide\n",
      "  \n"
     ]
    },
    {
     "data": {
      "text/plain": [
       "<matplotlib.colorbar.Colorbar at 0x7fde8caba208>"
      ]
     },
     "execution_count": 32,
     "metadata": {},
     "output_type": "execute_result"
    },
    {
     "data": {
      "image/png": "[encoded data removed]",
      "text/plain": [
       "<Figure size 432x288 with 2 Axes>"
      ]
     },
     "metadata": {
      "needs_background": "light"
     },
     "output_type": "display_data"
    }
   ],
   "source": [
    "fig, ax = plt.subplots()\n",
    "fig_mat = ax.matshow(np.array(success_matrix)/np.array(attempt_matrix))\n",
    "plt.colorbar(fig_mat)"
   ]
  },
  {
   "cell_type": "code",
   "execution_count": 1025,
   "metadata": {},
   "outputs": [
    {
     "data": {
      "text/plain": [
       "array([282, 243, 306, 179, 215, 274, 198, 187,  83,  33])"
      ]
     },
     "execution_count": 1025,
     "metadata": {},
     "output_type": "execute_result"
    }
   ],
   "source": [
    "l_counts"
   ]
  },
  {
   "cell_type": "code",
   "execution_count": 1026,
   "metadata": {},
   "outputs": [
    {
     "data": {
      "text/plain": [
       "array([132, 116, 147, 105, 116, 147, 103, 142, 126,  93, 150, 114, 108,\n",
       "        81,  72,  89,  64,  52,  34,   9])"
      ]
     },
     "execution_count": 1026,
     "metadata": {},
     "output_type": "execute_result"
    }
   ],
   "source": [
    "r_counts"
   ]
  },
  {
   "cell_type": "code",
   "execution_count": 1027,
   "metadata": {},
   "outputs": [
    {
     "name": "stdout",
     "output_type": "stream",
     "text": [
      "[ 1.   4.4  7.8 11.2 14.6 18.  21.4 24.8 28.2 31.6 35. ]\n",
      "[ 1.   5.4  9.8 14.2 18.6 23.  27.4 31.8 36.2 40.6 45.  49.4 53.8 58.2\n",
      " 62.6 67.  71.4 75.8 80.2 84.6 89. ]\n"
     ]
    }
   ],
   "source": [
    "print(l_bins)\n",
    "print(r_bins)"
   ]
  },
  {
   "cell_type": "code",
   "execution_count": 953,
   "metadata": {},
   "outputs": [
    {
     "data": {
      "text/plain": [
       "[[157, 128, 23], [16, 2, 4], [1, 0, 0]]"
      ]
     },
     "execution_count": 953,
     "metadata": {},
     "output_type": "execute_result"
    }
   ],
   "source": [
    "success_matrix"
   ]
  },
  {
   "cell_type": "code",
   "execution_count": 954,
   "metadata": {},
   "outputs": [
    {
     "data": {
      "text/plain": [
       "331"
      ]
     },
     "execution_count": 954,
     "metadata": {},
     "output_type": "execute_result"
    }
   ],
   "source": [
    "np.sum(success_matrix)"
   ]
  },
  {
   "cell_type": "code",
   "execution_count": 955,
   "metadata": {},
   "outputs": [
    {
     "data": {
      "text/plain": [
       "[[157, 128, 23], [16, 2, 4], [1, 0, 0]]"
      ]
     },
     "execution_count": 955,
     "metadata": {},
     "output_type": "execute_result"
    }
   ],
   "source": [
    "success_matrix"
   ]
  },
  {
   "cell_type": "code",
   "execution_count": 956,
   "metadata": {},
   "outputs": [
    {
     "data": {
      "text/plain": [
       "[[393, 298, 136], [111, 7, 14], [39, 0, 0]]"
      ]
     },
     "execution_count": 956,
     "metadata": {},
     "output_type": "execute_result"
    }
   ],
   "source": [
    "attempt_matrix"
   ]
  },
  {
   "cell_type": "code",
   "execution_count": 100,
   "metadata": {},
   "outputs": [
    {
     "ename": "ValueError",
     "evalue": "not enough values to unpack (expected 2, got 0)",
     "output_type": "error",
     "traceback": [
      "\u001b[0;31m---------------------------------------------------------------------------\u001b[0m",
      "\u001b[0;31mValueError\u001b[0m                                Traceback (most recent call last)",
      "\u001b[0;32m<ipython-input-100-83096ddcde90>\u001b[0m in \u001b[0;36m<module>\u001b[0;34m\u001b[0m\n\u001b[0;32m----> 1\u001b[0;31m \u001b[0ma\u001b[0m\u001b[0;34m,\u001b[0m \u001b[0mb\u001b[0m \u001b[0;34m=\u001b[0m \u001b[0;34m[\u001b[0m\u001b[0;34m]\u001b[0m\u001b[0;34m\u001b[0m\u001b[0;34m\u001b[0m\u001b[0m\n\u001b[0m\u001b[1;32m      2\u001b[0m \u001b[0mprint\u001b[0m\u001b[0;34m(\u001b[0m\u001b[0ma\u001b[0m\u001b[0;34m,\u001b[0m \u001b[0mb\u001b[0m\u001b[0;34m)\u001b[0m\u001b[0;34m\u001b[0m\u001b[0;34m\u001b[0m\u001b[0m\n",
      "\u001b[0;31mValueError\u001b[0m: not enough values to unpack (expected 2, got 0)"
     ]
    }
   ],
   "source": [
    "a, b = []\n",
    "print(a, b)"
   ]
  },
  {
   "cell_type": "markdown",
   "metadata": {},
   "source": [
    "# 2d histogram approach to accuracy"
   ]
  },
  {
   "cell_type": "code",
   "execution_count": 111,
   "metadata": {},
   "outputs": [],
   "source": [
    "def sample_tree_uniformly(my_tree):\n",
    "    ###Get nodes to delete, sampling uniformly from 1 to n-1\n",
    "    ln_to_remove = random.choice(list(range(0, len(my_tree.children[0].get_leaves()))))\n",
    "    rn_to_remove = random.choice(list(range(0, len(my_tree.children[1].get_leaves()))))\n",
    "    l_to_remove = random.sample(my_tree.children[0].get_leaves(), ln_to_remove)\n",
    "    r_to_remove = random.sample(my_tree.children[1].get_leaves(), rn_to_remove)\n",
    "    ###Actually remove said nodes\n",
    "    for node in l_to_remove + r_to_remove:\n",
    "        node.delete()\n",
    "    return\n",
    "\n",
    "def sample_tree_balanced(my_tree, downsample=False):\n",
    "    l_leaves = len(my_tree.children[0].get_leaves())\n",
    "    r_leaves = len(my_tree.children[1].get_leaves())\n",
    "    l_to_remove, r_to_remove = [], []\n",
    "    if l_leaves > r_leaves:\n",
    "        if downsample:\n",
    "            rn_to_remove = random.choice(list(range(0, len(my_tree.children[1].get_leaves()))))\n",
    "            r_to_remove = random.sample(my_tree.children[1].get_leaves(), rn_to_remove)\n",
    "            r_leaves = r_leaves-rn_to_remove\n",
    "        ln_to_remove = l_leaves - r_leaves\n",
    "        l_to_remove = random.sample(my_tree.children[0].get_leaves(), ln_to_remove)\n",
    "    elif r_leaves > l_leaves:\n",
    "        if downsample:\n",
    "            ln_to_remove = random.choice(list(range(0, len(my_tree.children[0].get_leaves()))))\n",
    "            l_to_remove = random.sample(my_tree.children[0].get_leaves(), ln_to_remove)\n",
    "            l_leaves = l_leaves-ln_to_remove\n",
    "        rn_to_remove = r_leaves - l_leaves\n",
    "        r_to_remove = random.sample(my_tree.children[1].get_leaves(), rn_to_remove)\n",
    "    else:\n",
    "        pass\n",
    "    for node in l_to_remove + r_to_remove:\n",
    "        node.delete()\n",
    "    return\n"
   ]
  },
  {
   "cell_type": "code",
   "execution_count": 119,
   "metadata": {},
   "outputs": [],
   "source": [
    "lside_success = []\n",
    "rside_success = []\n",
    "lside_success_hard = []\n",
    "rside_success_hard = []\n",
    "lside_attempt = []\n",
    "rside_attempt = []\n",
    "for i in range(10000):\n",
    "    ###Uniformly select a tree to use from this dataset\n",
    "    true_tree_file = random.choice(glob.glob('../Data/OMA_orthologs/5204_4890/*.True.newick'))\n",
    "    true_tree = ete3.Tree(true_tree_file, format=1)\n",
    "    if true_tree.children[0].name != 'IntA_0':\n",
    "        print('Orientation error on {}, exiting'.format(true_tree_file))\n",
    "        break\n",
    "    \n",
    "    ###Reload that tree with a different var name\n",
    "    test_tree = ete3.Tree(true_tree_file, format=1)\n",
    "    if test_tree.children[0].name != 'IntA_0':\n",
    "        print('Orientation error on {}, exiting'.format(true_tree_file))\n",
    "        break\n",
    "        \n",
    "    ###Sampling function\n",
    "#     sample_tree_uniformly(test_tree)\n",
    "#     sample_tree_balanced(test_tree)\n",
    "    sample_tree_balanced(test_tree, downsample=True)\n",
    "    \n",
    "    ###Possibly swap the topology so that it's consistent with the original tree\n",
    "    if ('IntA' not in test_tree.children[0].name) and ('IntB' not in test_tree.children[1].name):\n",
    "        test_tree.swap_children()\n",
    "    \n",
    "    ln_leaves = len(test_tree.children[0].get_leaves())\n",
    "    rn_leaves = len(test_tree.children[1].get_leaves())    \n",
    "    ####Ignore moving forward with trees consisting of 2 leaves\n",
    "    if ln_leaves + rn_leaves == 2:\n",
    "        continue\n",
    "    ####Something else strange may be happening if this is flagged\n",
    "    if ('IntA' not in test_tree.children[0].name) and ('IntB' not in test_tree.children[1].name):\n",
    "        print('Some strange problem with {}'.format(true_tree_file))\n",
    "        continue\n",
    "    assert test_tree.dist == 0.0\n",
    "    \n",
    "    #########################\n",
    "    ###Perform a root here!\n",
    "    #########################\n",
    "    rooting_methods_ete3.MP_root_ete3(test_tree)\n",
    "    assert test_tree.dist == 0.0\n",
    "\n",
    "    \n",
    "    ###An easy test. Do the leaf sets match correctly on the new root?\n",
    "    lside_true = set([i.name for i in true_tree.children[0].get_leaves()])\n",
    "    rside_true = set([i.name for i in true_tree.children[1].get_leaves()])\n",
    "    lside_test = set([i.name for i in test_tree.children[0].get_leaves()])\n",
    "    rside_test = set([i.name for i in test_tree.children[1].get_leaves()])\n",
    "    \n",
    "    correct_leaves = False\n",
    "    if len(lside_true.union(lside_test))-len(lside_true) == 0 and\\\n",
    "        len(rside_true.union(rside_test))-len(rside_true) == 0:\n",
    "        correct_leaves = True\n",
    "    elif len(lside_true.union(rside_test))-len(lside_true) == 0 and\\\n",
    "        len(rside_true.union(lside_test))-len(rside_true) == 0:\n",
    "        test_tree.swap_children()\n",
    "        correct_leaves = True\n",
    "    \n",
    "    if correct_leaves:\n",
    "        lside_success.append(len(test_tree.children[0].get_leaves()))\n",
    "        rside_success.append(len(test_tree.children[1].get_leaves()))\n",
    "        ###A challenging task. Do the leaf sets match AND is the root distance in roughly\n",
    "        ###the same location as it was before pruning\n",
    "        first_leaf = test_tree.get_leaves()[0]\n",
    "        true_dist_range = [true_tree.get_distance(first_leaf.name, true_tree.children[0]),\\\n",
    "                      true_tree.get_distance(first_leaf.name, true_tree.children[1])]\n",
    "        assert dist_range[0] < dist_range[1]\n",
    "        if (test_tree.get_distance(first_leaf) >= dist_range[0]) and\\\n",
    "            (test_tree.get_distance(first_leaf) <= dist_range[1]):\n",
    "            #\n",
    "            lside_success_hard.append(len(test_tree.children[0].get_leaves()))\n",
    "            rside_success_hard.append(len(test_tree.children[1].get_leaves())) \n",
    "    \n",
    "        \n",
    "    lside_attempt.append(ln_leaves)\n",
    "    rside_attempt.append(rn_leaves)\n"
   ]
  },
  {
   "cell_type": "code",
   "execution_count": 120,
   "metadata": {},
   "outputs": [
    {
     "name": "stdout",
     "output_type": "stream",
     "text": [
      "Overall accuracies amongst all tested:\n",
      "0.5685316139767055 0.189891846921797\n"
     ]
    }
   ],
   "source": [
    "print('Overall accuracies amongst all tested:')\n",
    "print(len(lside_success)/len(lside_attempt), len(lside_success_hard)/len(lside_attempt))"
   ]
  },
  {
   "cell_type": "code",
   "execution_count": 127,
   "metadata": {},
   "outputs": [
    {
     "name": "stderr",
     "output_type": "stream",
     "text": [
      "/home/adhock/anaconda3/lib/python3.7/site-packages/ipykernel_launcher.py:10: RuntimeWarning: invalid value encountered in true_divide\n",
      "  # Remove the CWD from sys.path while we load stuff.\n"
     ]
    },
    {
     "data": {
      "text/plain": [
       "<matplotlib.colorbar.Colorbar at 0x7fde8b5a6d30>"
      ]
     },
     "execution_count": 127,
     "metadata": {},
     "output_type": "execute_result"
    },
    {
     "data": {
      "image/png": "[encoded data removed]",
      "text/plain": [
       "<Figure size 432x288 with 2 Axes>"
      ]
     },
     "metadata": {
      "needs_background": "light"
     },
     "output_type": "display_data"
    },
    {
     "data": {
      "image/png": "[encoded data removed]",
      "text/plain": [
       "<Figure size 432x288 with 2 Axes>"
      ]
     },
     "metadata": {
      "needs_background": "light"
     },
     "output_type": "display_data"
    },
    {
     "data": {
      "image/png": "[encoded data removed]",
      "text/plain": [
       "<Figure size 432x288 with 2 Axes>"
      ]
     },
     "metadata": {
      "needs_background": "light"
     },
     "output_type": "display_data"
    }
   ],
   "source": [
    "counts, bins = np.histogram(lside_attempt + rside_attempt, 34)\n",
    "fig, ax = plt.subplots()\n",
    "fig_mat = ax.matshow(np.histogram2d(lside_attempt, rside_attempt, bins=[bins, bins])[0])\n",
    "plt.colorbar(fig_mat)\n",
    "fig, ax = plt.subplots()\n",
    "fig_mat = ax.matshow(np.histogram2d(lside_success, rside_success, bins=[bins, bins])[0])\n",
    "plt.colorbar(fig_mat)\n",
    "fig, ax = plt.subplots()\n",
    "fig_mat = ax.matshow(np.histogram2d(lside_success, rside_success, bins=[bins, bins])[0]/\n",
    "                    np.histogram2d(lside_attempt, rside_attempt, bins=[bins, bins])[0])\n",
    "plt.colorbar(fig_mat)"
   ]
  },
  {
   "cell_type": "code",
   "execution_count": 128,
   "metadata": {},
   "outputs": [
    {
     "data": {
      "text/plain": [
       "array([ 2.,  3.,  4.,  5.,  6.,  7.,  8.,  9., 10., 11., 12., 13., 14.,\n",
       "       15., 16., 17., 18., 19., 20., 21., 22., 23., 24., 25., 26., 27.,\n",
       "       28., 29., 30., 31., 32., 33., 34., 35., 36.])"
      ]
     },
     "execution_count": 128,
     "metadata": {},
     "output_type": "execute_result"
    }
   ],
   "source": [
    "bins"
   ]
  },
  {
   "cell_type": "code",
   "execution_count": null,
   "metadata": {},
   "outputs": [],
   "source": []
  },
  {
   "cell_type": "code",
   "execution_count": null,
   "metadata": {},
   "outputs": [],
   "source": []
  }
 ],
 "metadata": {
  "kernelspec": {
   "display_name": "Python 3",
   "language": "python",
   "name": "python3"
  },
  "language_info": {
   "codemirror_mode": {
    "name": "ipython",
    "version": 3
   },
   "file_extension": ".py",
   "mimetype": "text/x-python",
   "name": "python",
   "nbconvert_exporter": "python",
   "pygments_lexer": "ipython3",
   "version": "3.7.3"
  }
 },
 "nbformat": 4,
 "nbformat_minor": 2
}
