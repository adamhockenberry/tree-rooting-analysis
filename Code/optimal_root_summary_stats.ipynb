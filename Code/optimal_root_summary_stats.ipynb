{
 "cells": [
  {
   "cell_type": "code",
   "execution_count": 1,
   "metadata": {},
   "outputs": [],
   "source": [
    "%matplotlib inline\n",
    "%load_ext autoreload\n",
    "%autoreload 2"
   ]
  },
  {
   "cell_type": "code",
   "execution_count": 2,
   "metadata": {},
   "outputs": [],
   "source": [
    "import pandas as pd\n",
    "import ete3\n",
    "import glob\n",
    "import rooting_methods_ete3\n",
    "# import numpy as np"
   ]
  },
  {
   "cell_type": "markdown",
   "metadata": {},
   "source": [
    "# To do:\n",
    "1. Write summary statistic dataframes for each dataset!"
   ]
  },
  {
   "cell_type": "markdown",
   "metadata": {},
   "source": [
    "# Custom function definitions"
   ]
  },
  {
   "cell_type": "code",
   "execution_count": 3,
   "metadata": {},
   "outputs": [],
   "source": [
    "def is_monophyletic_ete3(hypothetical_root, previous_root, tree, test_set, monophyletic_list):\n",
    "    \"\"\"\n",
    "    This is a bit of a mess but it works. Wish it were cleaner. Makes successive recursive calls. Clean later.\n",
    "    \"\"\"\n",
    "    if hypothetical_root.is_root() == True:\n",
    "        l_clade = hypothetical_root.children[0]\n",
    "        r_clade = hypothetical_root.children[1]\n",
    "        l_terms = set([i.name[:5] for i in l_clade.get_leaves()])\n",
    "        r_terms = set([i.name[:5] for i in r_clade.get_leaves()])\n",
    "        #This does the test. Essentially, make sure all terms on one side are in the test_set\n",
    "        #and make sure that no terms on the otherside are in the test_set\n",
    "        if len(test_set.union(l_terms))-len(test_set) == 0 and\\\n",
    "            len(test_set.intersection(r_terms)) == 0:\n",
    "                monophyletic_list.append((l_clade, r_clade))\n",
    "                return monophyletic_list\n",
    "        elif len(test_set.union(r_terms))-len(test_set) == 0 and\\\n",
    "            len(test_set.intersection(l_terms)) == 0:\n",
    "                monophyletic_list.append((r_clade, l_clade))\n",
    "                return monophyletic_list\n",
    "    else:\n",
    "        #For non-root nodes, we don't care about left and right as much as downstream and upstream\n",
    "        ds_terms = set([i.name[:5] for i in hypothetical_root.get_leaves()])\n",
    "        us_terms = set([i.name[:5] for i in tree.get_leaves()]) - ds_terms\n",
    "        if len(test_set.union(ds_terms))-len(test_set) == 0 and\\\n",
    "            len(test_set.intersection(us_terms)) == 0:\n",
    "            monophyletic_list.append((hypothetical_root, previous_root))\n",
    "        if len(test_set.union(us_terms))-len(test_set) == 0 and\\\n",
    "            len(test_set.intersection(ds_terms)) == 0:\n",
    "            monophyletic_list.append((hypothetical_root, previous_root))\n",
    "    #Recursion, depth first search\n",
    "    if len(hypothetical_root.children) == 2:\n",
    "        l_clade, r_clade = hypothetical_root.children\n",
    "        monophyletic_list = is_monophyletic_ete3(l_clade, hypothetical_root, tree, test_set, monophyletic_list)\n",
    "        monophyletic_list = is_monophyletic_ete3(r_clade, hypothetical_root, tree, test_set, monophyletic_list)\n",
    "    elif len(hypothetical_root.children) == 0:\n",
    "        return monophyletic_list\n",
    "    return monophyletic_list\n",
    "\n",
    "def label_internals(tree):\n",
    "    \"\"\"\n",
    "    Just labeling all internal non-root nodes with a simple pattern to make subsequent life much easier.\n",
    "    \"\"\"\n",
    "    assert len(tree.children) == 2 ###Require bifurcating root\n",
    "    \n",
    "    ###Start each side out with zeros\n",
    "    if not tree.children[0].is_leaf():\n",
    "        tree.children[0].name = 'IntA_0'\n",
    "    if not tree.children[0].is_leaf():\n",
    "        tree.children[1].name = 'IntB_0'\n",
    "    ###Label successive internals    \n",
    "    for i, node in enumerate(tree.children[0].get_descendants()):\n",
    "        if not node.is_leaf():\n",
    "            node.name = 'IntA_{}'.format(i+1)\n",
    "    for i, node in enumerate(tree.children[1].get_descendants()):\n",
    "        if not node.is_leaf():\n",
    "            node.name = 'IntB_{}'.format(i+1)\n",
    "    return"
   ]
  },
  {
   "cell_type": "markdown",
   "metadata": {},
   "source": [
    "# First dataset"
   ]
  },
  {
   "cell_type": "code",
   "execution_count": 4,
   "metadata": {},
   "outputs": [
    {
     "name": "stdout",
     "output_type": "stream",
     "text": [
      "['5204', '4890']\n"
     ]
    }
   ],
   "source": [
    "direc_to_analyze = '../Data/OMA_orthologs/5204_4890/'\n",
    "taxa_to_analyze = direc_to_analyze.split('/')[-2].split('_')\n",
    "print(taxa_to_analyze)"
   ]
  },
  {
   "cell_type": "code",
   "execution_count": 5,
   "metadata": {},
   "outputs": [
    {
     "data": {
      "text/html": [
       "<div>\n",
       "<style scoped>\n",
       "    .dataframe tbody tr th:only-of-type {\n",
       "        vertical-align: middle;\n",
       "    }\n",
       "\n",
       "    .dataframe tbody tr th {\n",
       "        vertical-align: top;\n",
       "    }\n",
       "\n",
       "    .dataframe thead th {\n",
       "        text-align: right;\n",
       "    }\n",
       "</style>\n",
       "<table border=\"1\" class=\"dataframe\">\n",
       "  <thead>\n",
       "    <tr style=\"text-align: right;\">\n",
       "      <th></th>\n",
       "      <th>OMA_code</th>\n",
       "      <th>TaxID</th>\n",
       "      <th>Scientific_name</th>\n",
       "      <th>Source</th>\n",
       "      <th>Release</th>\n",
       "      <th>Taxonomy_lineage</th>\n",
       "    </tr>\n",
       "  </thead>\n",
       "  <tbody>\n",
       "    <tr>\n",
       "      <th>0</th>\n",
       "      <td>ACAM1</td>\n",
       "      <td>329726</td>\n",
       "      <td>Acaryochloris marina (strain MBIC 11017)</td>\n",
       "      <td>Genome Reviews</td>\n",
       "      <td>18-MAR-2008 (Rel. 88, Last updated, Version 2)</td>\n",
       "      <td>131567;2;1783272;1798711;1117;1890424;1890429;...</td>\n",
       "    </tr>\n",
       "    <tr>\n",
       "      <th>1</th>\n",
       "      <td>ACCPU</td>\n",
       "      <td>522306</td>\n",
       "      <td>Accumulibacter phosphatis (strain UW-1)</td>\n",
       "      <td>EBI</td>\n",
       "      <td>15-MAY-2014 (Rel. 120, Last updated, Version 4)</td>\n",
       "      <td>131567;2;1224;28216;119066;327159;327160</td>\n",
       "    </tr>\n",
       "    <tr>\n",
       "      <th>2</th>\n",
       "      <td>ACEAZ</td>\n",
       "      <td>574087</td>\n",
       "      <td>Acetohalobium arabaticum (strain ATCC 49924 / ...</td>\n",
       "      <td>EBI</td>\n",
       "      <td>09-JAN-2014 (Rel. 119, Last updated, Version 5)</td>\n",
       "      <td>131567;2;1783272;1239;186801;53433;53434;28186...</td>\n",
       "    </tr>\n",
       "    <tr>\n",
       "      <th>3</th>\n",
       "      <td>ACEMN</td>\n",
       "      <td>891968</td>\n",
       "      <td>Acetomicrobium mobile (strain ATCC BAA-54 / DS...</td>\n",
       "      <td>EBI</td>\n",
       "      <td>23-JUL-2013 (Rel. 117, Last updated, Version 3)</td>\n",
       "      <td>131567;2;508458;649775;649776;649777;49894;97477</td>\n",
       "    </tr>\n",
       "    <tr>\n",
       "      <th>4</th>\n",
       "      <td>ACEP3</td>\n",
       "      <td>634452</td>\n",
       "      <td>Acetobacter pasteurianus (strain NBRC 3283 / L...</td>\n",
       "      <td>Genome Reviews</td>\n",
       "      <td>24-NOV-2009 (Rel. 114, Last updated, Version 2)</td>\n",
       "      <td>131567;2;1224;28211;204441;433;434;438;481145</td>\n",
       "    </tr>\n",
       "  </tbody>\n",
       "</table>\n",
       "</div>"
      ],
      "text/plain": [
       "  OMA_code   TaxID                                    Scientific_name  \\\n",
       "0    ACAM1  329726           Acaryochloris marina (strain MBIC 11017)   \n",
       "1    ACCPU  522306            Accumulibacter phosphatis (strain UW-1)   \n",
       "2    ACEAZ  574087  Acetohalobium arabaticum (strain ATCC 49924 / ...   \n",
       "3    ACEMN  891968  Acetomicrobium mobile (strain ATCC BAA-54 / DS...   \n",
       "4    ACEP3  634452  Acetobacter pasteurianus (strain NBRC 3283 / L...   \n",
       "\n",
       "           Source                                          Release  \\\n",
       "0  Genome Reviews   18-MAR-2008 (Rel. 88, Last updated, Version 2)   \n",
       "1             EBI  15-MAY-2014 (Rel. 120, Last updated, Version 4)   \n",
       "2             EBI  09-JAN-2014 (Rel. 119, Last updated, Version 5)   \n",
       "3             EBI  23-JUL-2013 (Rel. 117, Last updated, Version 3)   \n",
       "4  Genome Reviews  24-NOV-2009 (Rel. 114, Last updated, Version 2)   \n",
       "\n",
       "                                    Taxonomy_lineage  \n",
       "0  131567;2;1783272;1798711;1117;1890424;1890429;...  \n",
       "1           131567;2;1224;28216;119066;327159;327160  \n",
       "2  131567;2;1783272;1239;186801;53433;53434;28186...  \n",
       "3   131567;2;508458;649775;649776;649777;49894;97477  \n",
       "4      131567;2;1224;28211;204441;433;434;438;481145  "
      ]
     },
     "execution_count": 5,
     "metadata": {},
     "output_type": "execute_result"
    }
   ],
   "source": [
    "species_df = pd.read_csv('../Data/oma-species-full.tsv', sep='\\t')\n",
    "species_df.head()"
   ]
  },
  {
   "cell_type": "code",
   "execution_count": 6,
   "metadata": {},
   "outputs": [
    {
     "name": "stdout",
     "output_type": "stream",
     "text": [
      "36 90\n"
     ]
    }
   ],
   "source": [
    "lside_names = set(species_df[species_df['Taxonomy_lineage'].\\\n",
    "                                          str.contains(';{};'.format(taxa_to_analyze[0]))]['OMA_code'])\n",
    "rside_names = set(species_df[species_df['Taxonomy_lineage'].\\\n",
    "                                          str.contains(';{};'.format(taxa_to_analyze[1]))]['OMA_code'])\n",
    "print(len(lside_names), len(rside_names))"
   ]
  },
  {
   "cell_type": "code",
   "execution_count": 7,
   "metadata": {},
   "outputs": [
    {
     "name": "stdout",
     "output_type": "stream",
     "text": [
      "Successes (out of): 1985 2137\n",
      "Possible errors: 0\n"
     ]
    }
   ],
   "source": [
    "found_roots = []\n",
    "for tree_file in glob.glob(direc_to_analyze + '*.treefile'):\n",
    "    tree = ete3.Tree(tree_file)\n",
    "    rooting_methods_ete3.MP_root_ete3(tree)\n",
    "    listy = is_monophyletic_ete3(tree, '', tree, set(lside_names), [])\n",
    "#     listy = is_monophyletic_ete3(tree, '', tree, set(rside_names), [])\n",
    "    found_roots.append(len(listy))\n",
    "    if len(listy) == 1:\n",
    "        tree.set_outgroup(listy[0][0])\n",
    "        assert set(tree.children) == set(listy[0])\n",
    "        \n",
    "        if lside_names.union(set([i.name[:5] for i in tree.children[0].get_leaves()])) == lside_names:\n",
    "            pass\n",
    "        elif rside_names.union(set([i.name[:5] for i in tree.children[0].get_leaves()])) == rside_names:\n",
    "            tree.swap_children()\n",
    "        else:\n",
    "            print('big error')\n",
    "        assert lside_names.union(set([i.name[:5] for i in tree.children[0].get_leaves()])) == lside_names\n",
    "        \n",
    "        new_file = tree_file.replace('.afa.treefile', '.True.newick')\n",
    "        label_internals(tree)\n",
    "        tree.write(format=1, outfile=new_file)        \n",
    "print('Successes (out of):', len([i for i in found_roots if i == 1]),  len(found_roots))\n",
    "print('Possible errors:', len([i for i in found_roots if i > 1]))"
   ]
  },
  {
   "cell_type": "code",
   "execution_count": null,
   "metadata": {},
   "outputs": [],
   "source": []
  },
  {
   "cell_type": "markdown",
   "metadata": {},
   "source": [
    "# Second dataset"
   ]
  },
  {
   "cell_type": "code",
   "execution_count": 8,
   "metadata": {},
   "outputs": [
    {
     "name": "stdout",
     "output_type": "stream",
     "text": [
      "['5204', '4890', '33511', '33317']\n"
     ]
    },
    {
     "data": {
      "text/html": [
       "<div>\n",
       "<style scoped>\n",
       "    .dataframe tbody tr th:only-of-type {\n",
       "        vertical-align: middle;\n",
       "    }\n",
       "\n",
       "    .dataframe tbody tr th {\n",
       "        vertical-align: top;\n",
       "    }\n",
       "\n",
       "    .dataframe thead th {\n",
       "        text-align: right;\n",
       "    }\n",
       "</style>\n",
       "<table border=\"1\" class=\"dataframe\">\n",
       "  <thead>\n",
       "    <tr style=\"text-align: right;\">\n",
       "      <th></th>\n",
       "      <th>OMA_code</th>\n",
       "      <th>TaxID</th>\n",
       "      <th>Scientific_name</th>\n",
       "      <th>Source</th>\n",
       "      <th>Release</th>\n",
       "      <th>Taxonomy_lineage</th>\n",
       "    </tr>\n",
       "  </thead>\n",
       "  <tbody>\n",
       "    <tr>\n",
       "      <th>0</th>\n",
       "      <td>ACAM1</td>\n",
       "      <td>329726</td>\n",
       "      <td>Acaryochloris marina (strain MBIC 11017)</td>\n",
       "      <td>Genome Reviews</td>\n",
       "      <td>18-MAR-2008 (Rel. 88, Last updated, Version 2)</td>\n",
       "      <td>131567;2;1783272;1798711;1117;1890424;1890429;...</td>\n",
       "    </tr>\n",
       "    <tr>\n",
       "      <th>1</th>\n",
       "      <td>ACCPU</td>\n",
       "      <td>522306</td>\n",
       "      <td>Accumulibacter phosphatis (strain UW-1)</td>\n",
       "      <td>EBI</td>\n",
       "      <td>15-MAY-2014 (Rel. 120, Last updated, Version 4)</td>\n",
       "      <td>131567;2;1224;28216;119066;327159;327160</td>\n",
       "    </tr>\n",
       "    <tr>\n",
       "      <th>2</th>\n",
       "      <td>ACEAZ</td>\n",
       "      <td>574087</td>\n",
       "      <td>Acetohalobium arabaticum (strain ATCC 49924 / ...</td>\n",
       "      <td>EBI</td>\n",
       "      <td>09-JAN-2014 (Rel. 119, Last updated, Version 5)</td>\n",
       "      <td>131567;2;1783272;1239;186801;53433;53434;28186...</td>\n",
       "    </tr>\n",
       "    <tr>\n",
       "      <th>3</th>\n",
       "      <td>ACEMN</td>\n",
       "      <td>891968</td>\n",
       "      <td>Acetomicrobium mobile (strain ATCC BAA-54 / DS...</td>\n",
       "      <td>EBI</td>\n",
       "      <td>23-JUL-2013 (Rel. 117, Last updated, Version 3)</td>\n",
       "      <td>131567;2;508458;649775;649776;649777;49894;97477</td>\n",
       "    </tr>\n",
       "    <tr>\n",
       "      <th>4</th>\n",
       "      <td>ACEP3</td>\n",
       "      <td>634452</td>\n",
       "      <td>Acetobacter pasteurianus (strain NBRC 3283 / L...</td>\n",
       "      <td>Genome Reviews</td>\n",
       "      <td>24-NOV-2009 (Rel. 114, Last updated, Version 2)</td>\n",
       "      <td>131567;2;1224;28211;204441;433;434;438;481145</td>\n",
       "    </tr>\n",
       "  </tbody>\n",
       "</table>\n",
       "</div>"
      ],
      "text/plain": [
       "  OMA_code   TaxID                                    Scientific_name  \\\n",
       "0    ACAM1  329726           Acaryochloris marina (strain MBIC 11017)   \n",
       "1    ACCPU  522306            Accumulibacter phosphatis (strain UW-1)   \n",
       "2    ACEAZ  574087  Acetohalobium arabaticum (strain ATCC 49924 / ...   \n",
       "3    ACEMN  891968  Acetomicrobium mobile (strain ATCC BAA-54 / DS...   \n",
       "4    ACEP3  634452  Acetobacter pasteurianus (strain NBRC 3283 / L...   \n",
       "\n",
       "           Source                                          Release  \\\n",
       "0  Genome Reviews   18-MAR-2008 (Rel. 88, Last updated, Version 2)   \n",
       "1             EBI  15-MAY-2014 (Rel. 120, Last updated, Version 4)   \n",
       "2             EBI  09-JAN-2014 (Rel. 119, Last updated, Version 5)   \n",
       "3             EBI  23-JUL-2013 (Rel. 117, Last updated, Version 3)   \n",
       "4  Genome Reviews  24-NOV-2009 (Rel. 114, Last updated, Version 2)   \n",
       "\n",
       "                                    Taxonomy_lineage  \n",
       "0  131567;2;1783272;1798711;1117;1890424;1890429;...  \n",
       "1           131567;2;1224;28216;119066;327159;327160  \n",
       "2  131567;2;1783272;1239;186801;53433;53434;28186...  \n",
       "3   131567;2;508458;649775;649776;649777;49894;97477  \n",
       "4      131567;2;1224;28211;204441;433;434;438;481145  "
      ]
     },
     "execution_count": 8,
     "metadata": {},
     "output_type": "execute_result"
    }
   ],
   "source": [
    "direc_to_analyze = '../Data/OMA_orthologs/5204_4890_33511_33317/'\n",
    "taxa_to_analyze = direc_to_analyze.split('/')[-2].split('_')\n",
    "print(taxa_to_analyze)\n",
    "species_df = pd.read_csv('../Data/oma-species-full.tsv', sep='\\t')\n",
    "species_df.head()"
   ]
  },
  {
   "cell_type": "code",
   "execution_count": 9,
   "metadata": {},
   "outputs": [
    {
     "name": "stdout",
     "output_type": "stream",
     "text": [
      "126 180\n",
      "126 180\n"
     ]
    }
   ],
   "source": [
    "lside_names_a = set(species_df[species_df['Taxonomy_lineage'].\\\n",
    "                                          str.contains(';{};'.format(taxa_to_analyze[0]))]['OMA_code'])\n",
    "lside_names_b = set(species_df[species_df['Taxonomy_lineage'].\\\n",
    "                                          str.contains(';{};'.format(taxa_to_analyze[1]))]['OMA_code'])\n",
    "\n",
    "rside_names_a = set(species_df[species_df['Taxonomy_lineage'].\\\n",
    "                                          str.contains(';{};'.format(taxa_to_analyze[2]))]['OMA_code'])\n",
    "rside_names_b = set(species_df[species_df['Taxonomy_lineage'].\\\n",
    "                                          str.contains(';{};'.format(taxa_to_analyze[3]))]['OMA_code'])\n",
    "lside_names = lside_names_a.union(lside_names_b)\n",
    "rside_names = rside_names_a.union(rside_names_b)\n",
    "print(len(lside_names), len(rside_names))\n",
    "print(len(lside_names_a) + len(lside_names_b), len(rside_names_a) + len(rside_names_b))"
   ]
  },
  {
   "cell_type": "code",
   "execution_count": 10,
   "metadata": {},
   "outputs": [
    {
     "name": "stdout",
     "output_type": "stream",
     "text": [
      "Successes (out of): 1113 1154\n",
      "Possible errors: 0\n"
     ]
    }
   ],
   "source": [
    "found_roots = []\n",
    "for tree_file in glob.glob(direc_to_analyze + '*.treefile')[:]:\n",
    "    tree = ete3.Tree(tree_file)\n",
    "    rooting_methods_ete3.MP_root_ete3(tree)\n",
    "    listy = is_monophyletic_ete3(tree, '', tree, set(lside_names), [])\n",
    "#     listy = is_monophyletic_ete3(tree, '', tree, set(rside_names), [])\n",
    "    found_roots.append(len(listy))\n",
    "    if len(listy) == 1:\n",
    "        tree.set_outgroup(listy[0][0])\n",
    "        assert set(tree.children) == set(listy[0])\n",
    "        \n",
    "                \n",
    "        if lside_names.union(set([i.name[:5] for i in tree.children[0].get_leaves()])) == lside_names:\n",
    "            pass\n",
    "        elif rside_names.union(set([i.name[:5] for i in tree.children[0].get_leaves()])) == rside_names:\n",
    "            tree.swap_children()\n",
    "        else:\n",
    "            print('big error')\n",
    "        assert lside_names.union(set([i.name[:5] for i in tree.children[0].get_leaves()])) == lside_names\n",
    "        \n",
    "        \n",
    "        new_file = tree_file.replace('.afa.treefile', '.True.newick')\n",
    "        label_internals(tree)\n",
    "        tree.write(format=1, outfile=new_file)        \n",
    "print('Successes (out of):', len([i for i in found_roots if i == 1]),  len(found_roots))\n",
    "print('Possible errors:', len([i for i in found_roots if i > 1]))"
   ]
  },
  {
   "cell_type": "code",
   "execution_count": null,
   "metadata": {},
   "outputs": [],
   "source": []
  },
  {
   "cell_type": "markdown",
   "metadata": {},
   "source": [
    "# Third dataset"
   ]
  },
  {
   "cell_type": "code",
   "execution_count": 11,
   "metadata": {},
   "outputs": [
    {
     "name": "stdout",
     "output_type": "stream",
     "text": [
      "['5204', '4890', '33511', '33317', '33090']\n"
     ]
    },
    {
     "data": {
      "text/html": [
       "<div>\n",
       "<style scoped>\n",
       "    .dataframe tbody tr th:only-of-type {\n",
       "        vertical-align: middle;\n",
       "    }\n",
       "\n",
       "    .dataframe tbody tr th {\n",
       "        vertical-align: top;\n",
       "    }\n",
       "\n",
       "    .dataframe thead th {\n",
       "        text-align: right;\n",
       "    }\n",
       "</style>\n",
       "<table border=\"1\" class=\"dataframe\">\n",
       "  <thead>\n",
       "    <tr style=\"text-align: right;\">\n",
       "      <th></th>\n",
       "      <th>OMA_code</th>\n",
       "      <th>TaxID</th>\n",
       "      <th>Scientific_name</th>\n",
       "      <th>Source</th>\n",
       "      <th>Release</th>\n",
       "      <th>Taxonomy_lineage</th>\n",
       "    </tr>\n",
       "  </thead>\n",
       "  <tbody>\n",
       "    <tr>\n",
       "      <th>0</th>\n",
       "      <td>ACAM1</td>\n",
       "      <td>329726</td>\n",
       "      <td>Acaryochloris marina (strain MBIC 11017)</td>\n",
       "      <td>Genome Reviews</td>\n",
       "      <td>18-MAR-2008 (Rel. 88, Last updated, Version 2)</td>\n",
       "      <td>131567;2;1783272;1798711;1117;1890424;1890429;...</td>\n",
       "    </tr>\n",
       "    <tr>\n",
       "      <th>1</th>\n",
       "      <td>ACCPU</td>\n",
       "      <td>522306</td>\n",
       "      <td>Accumulibacter phosphatis (strain UW-1)</td>\n",
       "      <td>EBI</td>\n",
       "      <td>15-MAY-2014 (Rel. 120, Last updated, Version 4)</td>\n",
       "      <td>131567;2;1224;28216;119066;327159;327160</td>\n",
       "    </tr>\n",
       "    <tr>\n",
       "      <th>2</th>\n",
       "      <td>ACEAZ</td>\n",
       "      <td>574087</td>\n",
       "      <td>Acetohalobium arabaticum (strain ATCC 49924 / ...</td>\n",
       "      <td>EBI</td>\n",
       "      <td>09-JAN-2014 (Rel. 119, Last updated, Version 5)</td>\n",
       "      <td>131567;2;1783272;1239;186801;53433;53434;28186...</td>\n",
       "    </tr>\n",
       "    <tr>\n",
       "      <th>3</th>\n",
       "      <td>ACEMN</td>\n",
       "      <td>891968</td>\n",
       "      <td>Acetomicrobium mobile (strain ATCC BAA-54 / DS...</td>\n",
       "      <td>EBI</td>\n",
       "      <td>23-JUL-2013 (Rel. 117, Last updated, Version 3)</td>\n",
       "      <td>131567;2;508458;649775;649776;649777;49894;97477</td>\n",
       "    </tr>\n",
       "    <tr>\n",
       "      <th>4</th>\n",
       "      <td>ACEP3</td>\n",
       "      <td>634452</td>\n",
       "      <td>Acetobacter pasteurianus (strain NBRC 3283 / L...</td>\n",
       "      <td>Genome Reviews</td>\n",
       "      <td>24-NOV-2009 (Rel. 114, Last updated, Version 2)</td>\n",
       "      <td>131567;2;1224;28211;204441;433;434;438;481145</td>\n",
       "    </tr>\n",
       "  </tbody>\n",
       "</table>\n",
       "</div>"
      ],
      "text/plain": [
       "  OMA_code   TaxID                                    Scientific_name  \\\n",
       "0    ACAM1  329726           Acaryochloris marina (strain MBIC 11017)   \n",
       "1    ACCPU  522306            Accumulibacter phosphatis (strain UW-1)   \n",
       "2    ACEAZ  574087  Acetohalobium arabaticum (strain ATCC 49924 / ...   \n",
       "3    ACEMN  891968  Acetomicrobium mobile (strain ATCC BAA-54 / DS...   \n",
       "4    ACEP3  634452  Acetobacter pasteurianus (strain NBRC 3283 / L...   \n",
       "\n",
       "           Source                                          Release  \\\n",
       "0  Genome Reviews   18-MAR-2008 (Rel. 88, Last updated, Version 2)   \n",
       "1             EBI  15-MAY-2014 (Rel. 120, Last updated, Version 4)   \n",
       "2             EBI  09-JAN-2014 (Rel. 119, Last updated, Version 5)   \n",
       "3             EBI  23-JUL-2013 (Rel. 117, Last updated, Version 3)   \n",
       "4  Genome Reviews  24-NOV-2009 (Rel. 114, Last updated, Version 2)   \n",
       "\n",
       "                                    Taxonomy_lineage  \n",
       "0  131567;2;1783272;1798711;1117;1890424;1890429;...  \n",
       "1           131567;2;1224;28216;119066;327159;327160  \n",
       "2  131567;2;1783272;1239;186801;53433;53434;28186...  \n",
       "3   131567;2;508458;649775;649776;649777;49894;97477  \n",
       "4      131567;2;1224;28211;204441;433;434;438;481145  "
      ]
     },
     "execution_count": 11,
     "metadata": {},
     "output_type": "execute_result"
    }
   ],
   "source": [
    "direc_to_analyze = '../Data/OMA_orthologs/5204_4890_33511_33317_33090/'\n",
    "taxa_to_analyze = direc_to_analyze.split('/')[-2].split('_')\n",
    "print(taxa_to_analyze)\n",
    "species_df = pd.read_csv('../Data/oma-species-full.tsv', sep='\\t')\n",
    "species_df.head()"
   ]
  },
  {
   "cell_type": "code",
   "execution_count": 12,
   "metadata": {},
   "outputs": [
    {
     "name": "stdout",
     "output_type": "stream",
     "text": [
      "306 57\n",
      "306 57\n"
     ]
    }
   ],
   "source": [
    "lside_names_a = set(species_df[species_df['Taxonomy_lineage'].\\\n",
    "                                          str.contains(';{};'.format(taxa_to_analyze[0]))]['OMA_code'])\n",
    "lside_names_b = set(species_df[species_df['Taxonomy_lineage'].\\\n",
    "                                          str.contains(';{};'.format(taxa_to_analyze[1]))]['OMA_code'])\n",
    "\n",
    "lside_names_c = set(species_df[species_df['Taxonomy_lineage'].\\\n",
    "                                          str.contains(';{};'.format(taxa_to_analyze[2]))]['OMA_code'])\n",
    "lside_names_d = set(species_df[species_df['Taxonomy_lineage'].\\\n",
    "                                          str.contains(';{};'.format(taxa_to_analyze[3]))]['OMA_code'])\n",
    "rside_names = set(species_df[species_df['Taxonomy_lineage'].\\\n",
    "                                          str.contains(';{};'.format(taxa_to_analyze[4]))]['OMA_code'])\n",
    "\n",
    "lside_names = lside_names_a.union(lside_names_b, lside_names_c, lside_names_d)\n",
    "print(len(lside_names), len(rside_names))\n",
    "print(len(lside_names_a) + len(lside_names_b) + len(lside_names_c) + len(lside_names_d), len(rside_names))"
   ]
  },
  {
   "cell_type": "code",
   "execution_count": 13,
   "metadata": {},
   "outputs": [
    {
     "name": "stdout",
     "output_type": "stream",
     "text": [
      "Successes (out of): 893 944\n",
      "Possible errors: 0\n"
     ]
    }
   ],
   "source": [
    "found_roots = []\n",
    "for tree_file in glob.glob(direc_to_analyze + '*.treefile')[:]:\n",
    "    tree = ete3.Tree(tree_file)\n",
    "    rooting_methods_ete3.MP_root_ete3(tree)\n",
    "    listy = is_monophyletic_ete3(tree, '', tree, set(lside_names), [])\n",
    "#     listy = is_monophyletic_ete3(tree, '', tree, set(rside_names), [])\n",
    "    found_roots.append(len(listy))\n",
    "    if len(listy) == 1:\n",
    "        tree.set_outgroup(listy[0][0])\n",
    "        assert set(tree.children) == set(listy[0])\n",
    "        \n",
    "                \n",
    "        if lside_names.union(set([i.name[:5] for i in tree.children[0].get_leaves()])) == lside_names:\n",
    "            pass\n",
    "        elif rside_names.union(set([i.name[:5] for i in tree.children[0].get_leaves()])) == rside_names:\n",
    "            tree.swap_children()\n",
    "        else:\n",
    "            print('big error')\n",
    "        assert lside_names.union(set([i.name[:5] for i in tree.children[0].get_leaves()])) == lside_names\n",
    "        \n",
    "        \n",
    "        new_file = tree_file.replace('.afa.treefile', '.True.newick')\n",
    "        label_internals(tree)\n",
    "        tree.write(format=1, outfile=new_file)        \n",
    "print('Successes (out of):', len([i for i in found_roots if i == 1]),  len(found_roots))\n",
    "print('Possible errors:', len([i for i in found_roots if i > 1]))"
   ]
  },
  {
   "cell_type": "code",
   "execution_count": null,
   "metadata": {},
   "outputs": [],
   "source": []
  }
 ],
 "metadata": {
  "kernelspec": {
   "display_name": "Python 3",
   "language": "python",
   "name": "python3"
  },
  "language_info": {
   "codemirror_mode": {
    "name": "ipython",
    "version": 3
   },
   "file_extension": ".py",
   "mimetype": "text/x-python",
   "name": "python",
   "nbconvert_exporter": "python",
   "pygments_lexer": "ipython3",
   "version": "3.7.3"
  }
 },
 "nbformat": 4,
 "nbformat_minor": 2
}
