{
 "cells": [
  {
   "cell_type": "code",
   "execution_count": 1,
   "metadata": {},
   "outputs": [],
   "source": [
    "%matplotlib inline"
   ]
  },
  {
   "cell_type": "code",
   "execution_count": 240,
   "metadata": {},
   "outputs": [],
   "source": [
    "from Bio import SeqIO\n",
    "import pandas as pd\n",
    "\n",
    "import time\n",
    "import random\n",
    "import os\n",
    "\n",
    "\n",
    "from Bio import Entrez\n",
    "Entrez.email = \"adam.hockenberry@u.texas.edu\""
   ]
  },
  {
   "cell_type": "markdown",
   "metadata": {},
   "source": [
    "# Introduction\n",
    "\n",
    "The purpose of this notebook is to essentially replicate the \"marker gene\" analysis from the OMA browser. See: https://omabrowser.org/oma/export_markers\n",
    "\n",
    "The webportal for this particular feature has a few limitations regarding the number of species that you can select and at various points seems to go down so I have basically downloaded all of the essential information from their downloads page (see: https://omabrowser.org/oma/current/, downloaded on 08/2019) and am replicating this feature here.\n",
    "\n",
    "As I was coding it up, it's clear that some of my solutions / algorithms are not the most efficient especially in terms of RAM. But for the purposes of my initial analyses none of these issues cause problems. That said, future releases of OMA, should they drastically increase in size, may become problematic with this exact code as it stands"
   ]
  },
  {
   "cell_type": "markdown",
   "metadata": {},
   "source": [
    "**First, I wanted to get the full species taxonomy from NCBI for each included species in the dataset**"
   ]
  },
  {
   "cell_type": "code",
   "execution_count": 3,
   "metadata": {},
   "outputs": [],
   "source": [
    "df = pd.read_csv('../Data/oma-species.txt', sep='\\t', skiprows=3, header=None)"
   ]
  },
  {
   "cell_type": "code",
   "execution_count": 4,
   "metadata": {},
   "outputs": [
    {
     "data": {
      "text/html": [
       "<div>\n",
       "<style scoped>\n",
       "    .dataframe tbody tr th:only-of-type {\n",
       "        vertical-align: middle;\n",
       "    }\n",
       "\n",
       "    .dataframe tbody tr th {\n",
       "        vertical-align: top;\n",
       "    }\n",
       "\n",
       "    .dataframe thead th {\n",
       "        text-align: right;\n",
       "    }\n",
       "</style>\n",
       "<table border=\"1\" class=\"dataframe\">\n",
       "  <thead>\n",
       "    <tr style=\"text-align: right;\">\n",
       "      <th></th>\n",
       "      <th>0</th>\n",
       "      <th>1</th>\n",
       "      <th>2</th>\n",
       "      <th>3</th>\n",
       "      <th>4</th>\n",
       "    </tr>\n",
       "  </thead>\n",
       "  <tbody>\n",
       "    <tr>\n",
       "      <th>0</th>\n",
       "      <td>ACAM1</td>\n",
       "      <td>329726</td>\n",
       "      <td>Acaryochloris marina (strain MBIC 11017)</td>\n",
       "      <td>Genome Reviews</td>\n",
       "      <td>18-MAR-2008 (Rel. 88, Last updated, Version 2)</td>\n",
       "    </tr>\n",
       "    <tr>\n",
       "      <th>1</th>\n",
       "      <td>ACCPU</td>\n",
       "      <td>522306</td>\n",
       "      <td>Accumulibacter phosphatis (strain UW-1)</td>\n",
       "      <td>EBI</td>\n",
       "      <td>15-MAY-2014 (Rel. 120, Last updated, Version 4)</td>\n",
       "    </tr>\n",
       "    <tr>\n",
       "      <th>2</th>\n",
       "      <td>ACEAZ</td>\n",
       "      <td>574087</td>\n",
       "      <td>Acetohalobium arabaticum (strain ATCC 49924 / ...</td>\n",
       "      <td>EBI</td>\n",
       "      <td>09-JAN-2014 (Rel. 119, Last updated, Version 5)</td>\n",
       "    </tr>\n",
       "    <tr>\n",
       "      <th>3</th>\n",
       "      <td>ACEMN</td>\n",
       "      <td>891968</td>\n",
       "      <td>Acetomicrobium mobile (strain ATCC BAA-54 / DS...</td>\n",
       "      <td>EBI</td>\n",
       "      <td>23-JUL-2013 (Rel. 117, Last updated, Version 3)</td>\n",
       "    </tr>\n",
       "    <tr>\n",
       "      <th>4</th>\n",
       "      <td>ACEP3</td>\n",
       "      <td>634452</td>\n",
       "      <td>Acetobacter pasteurianus (strain NBRC 3283 / L...</td>\n",
       "      <td>Genome Reviews</td>\n",
       "      <td>24-NOV-2009 (Rel. 114, Last updated, Version 2)</td>\n",
       "    </tr>\n",
       "  </tbody>\n",
       "</table>\n",
       "</div>"
      ],
      "text/plain": [
       "       0       1                                                  2  \\\n",
       "0  ACAM1  329726           Acaryochloris marina (strain MBIC 11017)   \n",
       "1  ACCPU  522306            Accumulibacter phosphatis (strain UW-1)   \n",
       "2  ACEAZ  574087  Acetohalobium arabaticum (strain ATCC 49924 / ...   \n",
       "3  ACEMN  891968  Acetomicrobium mobile (strain ATCC BAA-54 / DS...   \n",
       "4  ACEP3  634452  Acetobacter pasteurianus (strain NBRC 3283 / L...   \n",
       "\n",
       "                3                                                4  \n",
       "0  Genome Reviews   18-MAR-2008 (Rel. 88, Last updated, Version 2)  \n",
       "1             EBI  15-MAY-2014 (Rel. 120, Last updated, Version 4)  \n",
       "2             EBI  09-JAN-2014 (Rel. 119, Last updated, Version 5)  \n",
       "3             EBI  23-JUL-2013 (Rel. 117, Last updated, Version 3)  \n",
       "4  Genome Reviews  24-NOV-2009 (Rel. 114, Last updated, Version 2)  "
      ]
     },
     "execution_count": 4,
     "metadata": {},
     "output_type": "execute_result"
    }
   ],
   "source": [
    "df.head()"
   ]
  },
  {
   "cell_type": "code",
   "execution_count": 5,
   "metadata": {},
   "outputs": [
    {
     "data": {
      "text/plain": [
       "(2288, 5)"
      ]
     },
     "execution_count": 5,
     "metadata": {},
     "output_type": "execute_result"
    }
   ],
   "source": [
    "df.shape"
   ]
  },
  {
   "cell_type": "code",
   "execution_count": 6,
   "metadata": {},
   "outputs": [
    {
     "data": {
      "text/html": [
       "<div>\n",
       "<style scoped>\n",
       "    .dataframe tbody tr th:only-of-type {\n",
       "        vertical-align: middle;\n",
       "    }\n",
       "\n",
       "    .dataframe tbody tr th {\n",
       "        vertical-align: top;\n",
       "    }\n",
       "\n",
       "    .dataframe thead th {\n",
       "        text-align: right;\n",
       "    }\n",
       "</style>\n",
       "<table border=\"1\" class=\"dataframe\">\n",
       "  <thead>\n",
       "    <tr style=\"text-align: right;\">\n",
       "      <th></th>\n",
       "      <th>OMA_code</th>\n",
       "      <th>TaxID</th>\n",
       "      <th>Scientific_name</th>\n",
       "      <th>Source</th>\n",
       "      <th>Release</th>\n",
       "      <th>Taxonomy_lineage</th>\n",
       "    </tr>\n",
       "  </thead>\n",
       "  <tbody>\n",
       "    <tr>\n",
       "      <th>0</th>\n",
       "      <td>ACAM1</td>\n",
       "      <td>329726</td>\n",
       "      <td>Acaryochloris marina (strain MBIC 11017)</td>\n",
       "      <td>Genome Reviews</td>\n",
       "      <td>18-MAR-2008 (Rel. 88, Last updated, Version 2)</td>\n",
       "      <td></td>\n",
       "    </tr>\n",
       "    <tr>\n",
       "      <th>1</th>\n",
       "      <td>ACCPU</td>\n",
       "      <td>522306</td>\n",
       "      <td>Accumulibacter phosphatis (strain UW-1)</td>\n",
       "      <td>EBI</td>\n",
       "      <td>15-MAY-2014 (Rel. 120, Last updated, Version 4)</td>\n",
       "      <td></td>\n",
       "    </tr>\n",
       "    <tr>\n",
       "      <th>2</th>\n",
       "      <td>ACEAZ</td>\n",
       "      <td>574087</td>\n",
       "      <td>Acetohalobium arabaticum (strain ATCC 49924 / ...</td>\n",
       "      <td>EBI</td>\n",
       "      <td>09-JAN-2014 (Rel. 119, Last updated, Version 5)</td>\n",
       "      <td></td>\n",
       "    </tr>\n",
       "    <tr>\n",
       "      <th>3</th>\n",
       "      <td>ACEMN</td>\n",
       "      <td>891968</td>\n",
       "      <td>Acetomicrobium mobile (strain ATCC BAA-54 / DS...</td>\n",
       "      <td>EBI</td>\n",
       "      <td>23-JUL-2013 (Rel. 117, Last updated, Version 3)</td>\n",
       "      <td></td>\n",
       "    </tr>\n",
       "    <tr>\n",
       "      <th>4</th>\n",
       "      <td>ACEP3</td>\n",
       "      <td>634452</td>\n",
       "      <td>Acetobacter pasteurianus (strain NBRC 3283 / L...</td>\n",
       "      <td>Genome Reviews</td>\n",
       "      <td>24-NOV-2009 (Rel. 114, Last updated, Version 2)</td>\n",
       "      <td></td>\n",
       "    </tr>\n",
       "  </tbody>\n",
       "</table>\n",
       "</div>"
      ],
      "text/plain": [
       "  OMA_code   TaxID                                    Scientific_name  \\\n",
       "0    ACAM1  329726           Acaryochloris marina (strain MBIC 11017)   \n",
       "1    ACCPU  522306            Accumulibacter phosphatis (strain UW-1)   \n",
       "2    ACEAZ  574087  Acetohalobium arabaticum (strain ATCC 49924 / ...   \n",
       "3    ACEMN  891968  Acetomicrobium mobile (strain ATCC BAA-54 / DS...   \n",
       "4    ACEP3  634452  Acetobacter pasteurianus (strain NBRC 3283 / L...   \n",
       "\n",
       "           Source                                          Release  \\\n",
       "0  Genome Reviews   18-MAR-2008 (Rel. 88, Last updated, Version 2)   \n",
       "1             EBI  15-MAY-2014 (Rel. 120, Last updated, Version 4)   \n",
       "2             EBI  09-JAN-2014 (Rel. 119, Last updated, Version 5)   \n",
       "3             EBI  23-JUL-2013 (Rel. 117, Last updated, Version 3)   \n",
       "4  Genome Reviews  24-NOV-2009 (Rel. 114, Last updated, Version 2)   \n",
       "\n",
       "  Taxonomy_lineage  \n",
       "0                   \n",
       "1                   \n",
       "2                   \n",
       "3                   \n",
       "4                   "
      ]
     },
     "execution_count": 6,
     "metadata": {},
     "output_type": "execute_result"
    }
   ],
   "source": [
    "df.columns = ['OMA_code', 'TaxID', 'Scientific_name', 'Source', 'Release']\n",
    "df['Taxonomy_lineage'] = ''\n",
    "df.head()"
   ]
  },
  {
   "cell_type": "markdown",
   "metadata": {},
   "source": [
    "**Slowly iterate through and add all lineage information to each record**\n",
    "\n",
    "Commented here because this should only have to be run one time and will take a day or so to complete given my `time.sleep` call (which is to hopefully evade getting blocked)"
   ]
  },
  {
   "cell_type": "code",
   "execution_count": 16,
   "metadata": {},
   "outputs": [],
   "source": [
    "# for index in df.index[:]:\n",
    "#     print(index)\n",
    "#     taxid = df.loc[index]['TaxID']\n",
    "#     handle = Entrez.efetch(db=\"Taxonomy\", id=str(taxid), retmode=\"xml\")\n",
    "#     records = Entrez.read(handle)\n",
    "#     handle.close()\n",
    "#     assert len(records) == 1\n",
    "#     tax_lineage = []\n",
    "#     for i in records[0]['LineageEx']:\n",
    "#         tax_lineage.append(i['TaxId'])\n",
    "#     df.at[index, 'Taxonomy_lineage'] = ';'.join(tax_lineage)\n",
    "#     time.sleep(random.randint(1, 45))"
   ]
  },
  {
   "cell_type": "code",
   "execution_count": 18,
   "metadata": {},
   "outputs": [
    {
     "data": {
      "text/html": [
       "<div>\n",
       "<style scoped>\n",
       "    .dataframe tbody tr th:only-of-type {\n",
       "        vertical-align: middle;\n",
       "    }\n",
       "\n",
       "    .dataframe tbody tr th {\n",
       "        vertical-align: top;\n",
       "    }\n",
       "\n",
       "    .dataframe thead th {\n",
       "        text-align: right;\n",
       "    }\n",
       "</style>\n",
       "<table border=\"1\" class=\"dataframe\">\n",
       "  <thead>\n",
       "    <tr style=\"text-align: right;\">\n",
       "      <th></th>\n",
       "      <th>OMA_code</th>\n",
       "      <th>TaxID</th>\n",
       "      <th>Scientific_name</th>\n",
       "      <th>Source</th>\n",
       "      <th>Release</th>\n",
       "      <th>Taxonomy_lineage</th>\n",
       "    </tr>\n",
       "  </thead>\n",
       "  <tbody>\n",
       "    <tr>\n",
       "      <th>0</th>\n",
       "      <td>ACAM1</td>\n",
       "      <td>329726</td>\n",
       "      <td>Acaryochloris marina (strain MBIC 11017)</td>\n",
       "      <td>Genome Reviews</td>\n",
       "      <td>18-MAR-2008 (Rel. 88, Last updated, Version 2)</td>\n",
       "      <td>131567;2;1783272;1798711;1117;1890424;1890429;...</td>\n",
       "    </tr>\n",
       "    <tr>\n",
       "      <th>1</th>\n",
       "      <td>ACCPU</td>\n",
       "      <td>522306</td>\n",
       "      <td>Accumulibacter phosphatis (strain UW-1)</td>\n",
       "      <td>EBI</td>\n",
       "      <td>15-MAY-2014 (Rel. 120, Last updated, Version 4)</td>\n",
       "      <td>131567;2;1224;28216;119066;327159;327160</td>\n",
       "    </tr>\n",
       "    <tr>\n",
       "      <th>2</th>\n",
       "      <td>ACEAZ</td>\n",
       "      <td>574087</td>\n",
       "      <td>Acetohalobium arabaticum (strain ATCC 49924 / ...</td>\n",
       "      <td>EBI</td>\n",
       "      <td>09-JAN-2014 (Rel. 119, Last updated, Version 5)</td>\n",
       "      <td>131567;2;1783272;1239;186801;53433;53434;28186...</td>\n",
       "    </tr>\n",
       "    <tr>\n",
       "      <th>3</th>\n",
       "      <td>ACEMN</td>\n",
       "      <td>891968</td>\n",
       "      <td>Acetomicrobium mobile (strain ATCC BAA-54 / DS...</td>\n",
       "      <td>EBI</td>\n",
       "      <td>23-JUL-2013 (Rel. 117, Last updated, Version 3)</td>\n",
       "      <td>131567;2;508458;649775;649776;649777;49894;97477</td>\n",
       "    </tr>\n",
       "    <tr>\n",
       "      <th>4</th>\n",
       "      <td>ACEP3</td>\n",
       "      <td>634452</td>\n",
       "      <td>Acetobacter pasteurianus (strain NBRC 3283 / L...</td>\n",
       "      <td>Genome Reviews</td>\n",
       "      <td>24-NOV-2009 (Rel. 114, Last updated, Version 2)</td>\n",
       "      <td>131567;2;1224;28211;204441;433;434;438;481145</td>\n",
       "    </tr>\n",
       "  </tbody>\n",
       "</table>\n",
       "</div>"
      ],
      "text/plain": [
       "  OMA_code   TaxID                                    Scientific_name  \\\n",
       "0    ACAM1  329726           Acaryochloris marina (strain MBIC 11017)   \n",
       "1    ACCPU  522306            Accumulibacter phosphatis (strain UW-1)   \n",
       "2    ACEAZ  574087  Acetohalobium arabaticum (strain ATCC 49924 / ...   \n",
       "3    ACEMN  891968  Acetomicrobium mobile (strain ATCC BAA-54 / DS...   \n",
       "4    ACEP3  634452  Acetobacter pasteurianus (strain NBRC 3283 / L...   \n",
       "\n",
       "           Source                                          Release  \\\n",
       "0  Genome Reviews   18-MAR-2008 (Rel. 88, Last updated, Version 2)   \n",
       "1             EBI  15-MAY-2014 (Rel. 120, Last updated, Version 4)   \n",
       "2             EBI  09-JAN-2014 (Rel. 119, Last updated, Version 5)   \n",
       "3             EBI  23-JUL-2013 (Rel. 117, Last updated, Version 3)   \n",
       "4  Genome Reviews  24-NOV-2009 (Rel. 114, Last updated, Version 2)   \n",
       "\n",
       "                                    Taxonomy_lineage  \n",
       "0  131567;2;1783272;1798711;1117;1890424;1890429;...  \n",
       "1           131567;2;1224;28216;119066;327159;327160  \n",
       "2  131567;2;1783272;1239;186801;53433;53434;28186...  \n",
       "3   131567;2;508458;649775;649776;649777;49894;97477  \n",
       "4      131567;2;1224;28211;204441;433;434;438;481145  "
      ]
     },
     "execution_count": 18,
     "metadata": {},
     "output_type": "execute_result"
    }
   ],
   "source": [
    "df.head()"
   ]
  },
  {
   "cell_type": "code",
   "execution_count": 19,
   "metadata": {},
   "outputs": [
    {
     "data": {
      "text/html": [
       "<div>\n",
       "<style scoped>\n",
       "    .dataframe tbody tr th:only-of-type {\n",
       "        vertical-align: middle;\n",
       "    }\n",
       "\n",
       "    .dataframe tbody tr th {\n",
       "        vertical-align: top;\n",
       "    }\n",
       "\n",
       "    .dataframe thead th {\n",
       "        text-align: right;\n",
       "    }\n",
       "</style>\n",
       "<table border=\"1\" class=\"dataframe\">\n",
       "  <thead>\n",
       "    <tr style=\"text-align: right;\">\n",
       "      <th></th>\n",
       "      <th>OMA_code</th>\n",
       "      <th>TaxID</th>\n",
       "      <th>Scientific_name</th>\n",
       "      <th>Source</th>\n",
       "      <th>Release</th>\n",
       "      <th>Taxonomy_lineage</th>\n",
       "    </tr>\n",
       "  </thead>\n",
       "  <tbody>\n",
       "    <tr>\n",
       "      <th>2283</th>\n",
       "      <td>ZYMMA</td>\n",
       "      <td>555217</td>\n",
       "      <td>Zymomonas mobilis subsp. mobilis (strain ATCC ...</td>\n",
       "      <td>EBI</td>\n",
       "      <td>22-SEP-2011 (Rel. 110, Last updated, Version 2)</td>\n",
       "      <td>131567;2;1224;28211;204457;41297;541;542;120045</td>\n",
       "    </tr>\n",
       "    <tr>\n",
       "      <th>2284</th>\n",
       "      <td>ZYMMN</td>\n",
       "      <td>622759</td>\n",
       "      <td>Zymomonas mobilis subsp. mobilis (strain NCIMB...</td>\n",
       "      <td>EBI</td>\n",
       "      <td>12-DEC-2013 (Rel. 119, Last updated, Version 3)</td>\n",
       "      <td>131567;2;1224;28211;204457;41297;541;542;120045</td>\n",
       "    </tr>\n",
       "    <tr>\n",
       "      <th>2285</th>\n",
       "      <td>ZYMMO</td>\n",
       "      <td>264203</td>\n",
       "      <td>Zymomonas mobilis subsp. mobilis (strain ATCC ...</td>\n",
       "      <td>EBI</td>\n",
       "      <td>02-FEB-2014 (Rel. 119, Last updated, Version 10)</td>\n",
       "      <td>131567;2;1224;28211;204457;41297;541;542;120045</td>\n",
       "    </tr>\n",
       "    <tr>\n",
       "      <th>2286</th>\n",
       "      <td>ZYMMT</td>\n",
       "      <td>579138</td>\n",
       "      <td>Zymomonas mobilis subsp. pomaceae (strain ATCC...</td>\n",
       "      <td>EBI</td>\n",
       "      <td>18-JUL-2013 (Rel. 117, Last updated, Version 3)</td>\n",
       "      <td>131567;2;1224;28211;204457;41297;541;542;120044</td>\n",
       "    </tr>\n",
       "    <tr>\n",
       "      <th>2287</th>\n",
       "      <td>ZYMTR</td>\n",
       "      <td>1047171</td>\n",
       "      <td>Zymoseptoria tritici</td>\n",
       "      <td>EnsemblGenomes</td>\n",
       "      <td>Ensembl Fungi 28; MG2; 29-JUL-2015</td>\n",
       "      <td>131567;2759;33154;4751;451864;4890;716545;1475...</td>\n",
       "    </tr>\n",
       "  </tbody>\n",
       "</table>\n",
       "</div>"
      ],
      "text/plain": [
       "     OMA_code    TaxID                                    Scientific_name  \\\n",
       "2283    ZYMMA   555217  Zymomonas mobilis subsp. mobilis (strain ATCC ...   \n",
       "2284    ZYMMN   622759  Zymomonas mobilis subsp. mobilis (strain NCIMB...   \n",
       "2285    ZYMMO   264203  Zymomonas mobilis subsp. mobilis (strain ATCC ...   \n",
       "2286    ZYMMT   579138  Zymomonas mobilis subsp. pomaceae (strain ATCC...   \n",
       "2287    ZYMTR  1047171                               Zymoseptoria tritici   \n",
       "\n",
       "              Source                                           Release  \\\n",
       "2283             EBI   22-SEP-2011 (Rel. 110, Last updated, Version 2)   \n",
       "2284             EBI   12-DEC-2013 (Rel. 119, Last updated, Version 3)   \n",
       "2285             EBI  02-FEB-2014 (Rel. 119, Last updated, Version 10)   \n",
       "2286             EBI   18-JUL-2013 (Rel. 117, Last updated, Version 3)   \n",
       "2287  EnsemblGenomes                Ensembl Fungi 28; MG2; 29-JUL-2015   \n",
       "\n",
       "                                       Taxonomy_lineage  \n",
       "2283    131567;2;1224;28211;204457;41297;541;542;120045  \n",
       "2284    131567;2;1224;28211;204457;41297;541;542;120045  \n",
       "2285    131567;2;1224;28211;204457;41297;541;542;120045  \n",
       "2286    131567;2;1224;28211;204457;41297;541;542;120044  \n",
       "2287  131567;2759;33154;4751;451864;4890;716545;1475...  "
      ]
     },
     "execution_count": 19,
     "metadata": {},
     "output_type": "execute_result"
    }
   ],
   "source": [
    "df.tail()"
   ]
  },
  {
   "cell_type": "markdown",
   "metadata": {},
   "source": [
    "**And now write that information to a new file**"
   ]
  },
  {
   "cell_type": "code",
   "execution_count": 202,
   "metadata": {},
   "outputs": [],
   "source": [
    "# df.to_csv('../Data/oma-species-full.tsv', sep='\\t', index=False)"
   ]
  },
  {
   "cell_type": "code",
   "execution_count": null,
   "metadata": {},
   "outputs": [],
   "source": []
  },
  {
   "cell_type": "markdown",
   "metadata": {},
   "source": [
    "# Use new taxonomy to gather specific species sub-sets"
   ]
  },
  {
   "cell_type": "markdown",
   "metadata": {},
   "source": [
    "For my purposes:\n",
    "1. Basidiomycota (5204)\n",
    "2. Ascomycota (4890)\n",
    "3. Deuterostomia (33511)\n",
    "4. Protostomia (33317)\n",
    "5. Viridiplantae (33090)\n",
    "\n",
    "And later I might find these to be interesting:\n",
    "1. Alphaproteobacteria (28211)\n",
    "2. Betaproteobacteria (28216)\n",
    "3. Gammaproteobacteria (1236)\n",
    "4. Deltaproteobacteria (28221)\n",
    "5. Epsilonproteobacteria (29547)"
   ]
  },
  {
   "cell_type": "code",
   "execution_count": 34,
   "metadata": {},
   "outputs": [
    {
     "data": {
      "text/plain": [
       "(361, 6)"
      ]
     },
     "execution_count": 34,
     "metadata": {},
     "output_type": "execute_result"
    }
   ],
   "source": [
    "taxa_code = 1236\n",
    "df[df['Taxonomy_lineage'].str.contains(';{};'.format(taxa_code))].shape"
   ]
  },
  {
   "cell_type": "markdown",
   "metadata": {},
   "source": [
    "**Finding OMA groups that fit my needs**\n",
    "\n",
    "For each taxonomic group that I care about, take the huge `oma-groups.txt` file and remove any rows where `XX%` of the species that I care about do not appear. Currently setting `XX` to 0.5, thus this will write separate files that only include the rows where half of the species in the taxa that I care about appear. "
   ]
  },
  {
   "cell_type": "code",
   "execution_count": 148,
   "metadata": {},
   "outputs": [],
   "source": [
    "taxa_code = 33090\n",
    "taxa_of_interest = set(df[df['Taxonomy_lineage'].str.contains(';{};'.format(toi))]['OMA_code'])\n",
    "n_taxa_thresh = round(len(taxa_of_interest)*0.5)"
   ]
  },
  {
   "cell_type": "code",
   "execution_count": 149,
   "metadata": {},
   "outputs": [
    {
     "name": "stdout",
     "output_type": "stream",
     "text": [
      "8733\n"
     ]
    }
   ],
   "source": [
    "new_lines = []\n",
    "with open('../Data/oma-groups.txt', 'r') as infile:\n",
    "    for line in infile.readlines()[3:]:\n",
    "        split_line = line.split('\\t')\n",
    "        group = split_line[0]\n",
    "        species = set([i[:5] for i in split_line[1:]])\n",
    "        intersect = taxa_of_interest.intersection(species)\n",
    "        if len(intersect) > n_taxa_thresh:\n",
    "            new_lines.append(line)\n",
    "print(len(new_lines))"
   ]
  },
  {
   "cell_type": "code",
   "execution_count": 150,
   "metadata": {},
   "outputs": [],
   "source": [
    "with open('../Data/oma-groups-{}.txt'.format(toi), 'w') as outfile:\n",
    "    for line in new_lines:\n",
    "        outfile.write(line)"
   ]
  },
  {
   "cell_type": "code",
   "execution_count": null,
   "metadata": {},
   "outputs": [],
   "source": []
  },
  {
   "cell_type": "markdown",
   "metadata": {},
   "source": [
    "**Read those other dataframes to find OMA groups that fit criteria for all of the different taxa that I care about**"
   ]
  },
  {
   "cell_type": "code",
   "execution_count": 260,
   "metadata": {},
   "outputs": [],
   "source": [
    "# required = ('5204', '4890')\n",
    "# required = ('5204', '4890', '33511', '33317')\n",
    "required = ('5204', '4890', '33511', '33317', '33090')\n",
    "\n",
    "taxa_dict = {}\n",
    "for taxid in required:\n",
    "    taxa_dict[taxid] = []\n",
    "    with open('../Data/oma-groups-{}.txt'.format(taxid), 'r') as infile:\n",
    "        for line in infile.readlines():\n",
    "            split_line = line.split('\\t')\n",
    "            group = split_line[0]\n",
    "            taxa_dict[taxid].append(group)\n",
    "    taxa_dict[taxid] = set(taxa_dict[taxid])"
   ]
  },
  {
   "cell_type": "code",
   "execution_count": 261,
   "metadata": {},
   "outputs": [
    {
     "name": "stdout",
     "output_type": "stream",
     "text": [
      "5204 3625\n",
      "4890 4152\n",
      "33511 14613\n",
      "33317 3975\n",
      "33090 8733\n"
     ]
    }
   ],
   "source": [
    "for i in required:\n",
    "    print(i, len(taxa_dict[i]))"
   ]
  },
  {
   "cell_type": "code",
   "execution_count": 262,
   "metadata": {},
   "outputs": [
    {
     "name": "stdout",
     "output_type": "stream",
     "text": [
      "944\n"
     ]
    }
   ],
   "source": [
    "group_intersection = taxa_dict[required[0]].intersection(*list(taxa_dict.values()))\n",
    "print(len(group_intersection))"
   ]
  },
  {
   "cell_type": "markdown",
   "metadata": {},
   "source": [
    "**JUST getting the taxa that I care about now for each of these OMA groups**\n",
    "\n",
    "First get the species names that fit the bill"
   ]
  },
  {
   "cell_type": "code",
   "execution_count": 263,
   "metadata": {},
   "outputs": [
    {
     "name": "stdout",
     "output_type": "stream",
     "text": [
      "363 363\n"
     ]
    }
   ],
   "source": [
    "species_of_interest = []\n",
    "for taxid in required:\n",
    "    species_of_interest.extend(df[df['Taxonomy_lineage'].str.contains(';{};'.format(taxid))]['OMA_code'])\n",
    "print(len(species_of_interest), len(list(set(species_of_interest))))"
   ]
  },
  {
   "cell_type": "markdown",
   "metadata": {},
   "source": [
    "**Now isolate the full codes that I care about (species + geneid)**"
   ]
  },
  {
   "cell_type": "code",
   "execution_count": 264,
   "metadata": {},
   "outputs": [],
   "source": [
    "groups_dict = {}\n",
    "with open('../Data/oma-groups-{}.txt'.format(required[0]), 'r') as infile:\n",
    "    for line in infile.readlines():\n",
    "        split_line = line.strip().split('\\t')\n",
    "        group = split_line[0]\n",
    "        if group in group_intersection:\n",
    "            groups_dict[group] = [i for i in split_line[1:] if i[:5] in species_of_interest]"
   ]
  },
  {
   "cell_type": "code",
   "execution_count": 265,
   "metadata": {},
   "outputs": [
    {
     "data": {
      "text/plain": [
       "944"
      ]
     },
     "execution_count": 265,
     "metadata": {},
     "output_type": "execute_result"
    }
   ],
   "source": [
    "len(groups_dict.keys())"
   ]
  },
  {
   "cell_type": "code",
   "execution_count": 266,
   "metadata": {},
   "outputs": [
    {
     "data": {
      "text/plain": [
       "['SCHCR04229',\n",
       " 'SCHJY01101',\n",
       " 'SCHOY04167',\n",
       " 'SCHPO04533',\n",
       " 'ARTOA00963',\n",
       " 'PYROM06047',\n",
       " 'TUBMM01011',\n",
       " 'ASPAC05289',\n",
       " 'ASPCL02675',\n",
       " 'NEOFI09535']"
      ]
     },
     "execution_count": 266,
     "metadata": {},
     "output_type": "execute_result"
    }
   ],
   "source": [
    "groups_dict[list(groups_dict.keys())[1]][:10]"
   ]
  },
  {
   "cell_type": "code",
   "execution_count": 267,
   "metadata": {},
   "outputs": [],
   "source": [
    "inverse_groups_dict = {}\n",
    "for key, val in groups_dict.items():\n",
    "    for geneid in val:\n",
    "        inverse_groups_dict[geneid] = key"
   ]
  },
  {
   "cell_type": "markdown",
   "metadata": {},
   "source": [
    "**Find the sequences (SLOWWWWW)**\n",
    "\n",
    "We're doing a line-by-line iteration of a ~6GB file (~15,000,000 sequences) so this will take a while and that's to be expected.\n",
    "\n",
    "And this code is really not the best but it runs in a reasonable few minutes so all things considered seems to serve its purpose. But all told these manipulations are just eating up RAM and doing a lot of brute force searches that could/should surely be streamlined"
   ]
  },
  {
   "cell_type": "code",
   "execution_count": 268,
   "metadata": {},
   "outputs": [],
   "source": [
    "seqs = SeqIO.parse('../Data/oma-seqs.fa', 'fasta')"
   ]
  },
  {
   "cell_type": "code",
   "execution_count": 269,
   "metadata": {},
   "outputs": [],
   "source": [
    "fastas_dict = {}\n",
    "for group in groups_dict.keys():\n",
    "    fastas_dict[group] = []\n",
    "counter = 0\n",
    "for i in seqs:\n",
    "    try:\n",
    "        fastas_dict[inverse_groups_dict[i.name]].append(i)\n",
    "    except:\n",
    "        pass\n",
    "    counter += 1\n",
    "#     if counter == 100000:\n",
    "#         break"
   ]
  },
  {
   "cell_type": "code",
   "execution_count": 270,
   "metadata": {},
   "outputs": [],
   "source": [
    "for key,val in fastas_dict.items():\n",
    "    assert len(val) == len(groups_dict[key])\n",
    "#     print(key, len(val), len(groups_dict[key]))"
   ]
  },
  {
   "cell_type": "markdown",
   "metadata": {},
   "source": [
    "**Write out the groups**"
   ]
  },
  {
   "cell_type": "code",
   "execution_count": 271,
   "metadata": {},
   "outputs": [],
   "source": [
    "save_dir = '../Data/OMA_orthologs/{}/'.format('_'.join(required))\n",
    "if not os.path.exists(save_dir):\n",
    "    os.makedirs('../Data/OMA_orthologs/{}/'.format('_'.join(required)))"
   ]
  },
  {
   "cell_type": "code",
   "execution_count": 272,
   "metadata": {},
   "outputs": [],
   "source": [
    "for key,val in fastas_dict.items():\n",
    "    assert len(val) == len(groups_dict[key])\n",
    "    with open(save_dir+key+'.fasta', 'w') as outfile:\n",
    "        SeqIO.write(val, outfile, 'fasta')"
   ]
  },
  {
   "cell_type": "markdown",
   "metadata": {},
   "source": [
    "# After all of this I should have fasta files for all the OMA groups / species sets that I want to carry forward for further analyses"
   ]
  },
  {
   "cell_type": "code",
   "execution_count": null,
   "metadata": {},
   "outputs": [],
   "source": []
  }
 ],
 "metadata": {
  "kernelspec": {
   "display_name": "Python 3",
   "language": "python",
   "name": "python3"
  },
  "language_info": {
   "codemirror_mode": {
    "name": "ipython",
    "version": 3
   },
   "file_extension": ".py",
   "mimetype": "text/x-python",
   "name": "python",
   "nbconvert_exporter": "python",
   "pygments_lexer": "ipython3",
   "version": "3.7.3"
  }
 },
 "nbformat": 4,
 "nbformat_minor": 2
}
