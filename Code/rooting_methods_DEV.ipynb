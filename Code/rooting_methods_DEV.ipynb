{
 "cells": [
  {
   "cell_type": "code",
   "execution_count": 1,
   "metadata": {},
   "outputs": [],
   "source": [
    "%matplotlib inline"
   ]
  },
  {
   "cell_type": "code",
   "execution_count": 17,
   "metadata": {},
   "outputs": [],
   "source": [
    "import glob\n",
    "import ete3\n",
    "import numpy as np"
   ]
  },
  {
   "cell_type": "code",
   "execution_count": 27,
   "metadata": {},
   "outputs": [],
   "source": [
    "def MP_root_ete3(tree):                                                                                                                                                                                          \n",
    "    \"\"\"\n",
    "    \n",
    "    \"\"\"\n",
    "    init_bl = np.sum([i.dist for i in tree.traverse()])\n",
    "    init_terms = tree.get_leaves()\n",
    "    init_term_names = [i.name for i in tree.get_leaves()]\n",
    "    if len(tree.children) == 3:\n",
    "        tree.set_outgroup(tree.get_leaves()[0])\n",
    "    assert set([len(i.children) for i in tree.traverse() if not i.is_leaf()]) == set([2])\n",
    "    ###Identifying the two leaves that are farthest from one-another\n",
    "    starting, trash = tree.get_farthest_leaf()\n",
    "    farthest1, init_dist = starting.get_farthest_node()\n",
    "    farthest2, max_dist = farthest1.get_farthest_node()\n",
    "    assert farthest1.is_leaf() and farthest2.is_leaf()\n",
    "    \n",
    "    ###Actually performing the mid-point root\n",
    "    final_root(tree, farthest1, farthest2, max_dist)\n",
    "    \n",
    "    ###Making sure the two leave are equi-distant from one-another\n",
    "    assert np.isclose(tree.get_distance(farthest1), tree.get_distance(farthest2))\n",
    "    ###Making sure that I didn't lose any branch length along the way\n",
    "    final_bl = np.sum([i.dist for i in tree.traverse()])\n",
    "    assert np.isclose(init_bl, final_bl)\n",
    "    ###Making sure I didn't lose any leaves along the way\n",
    "    assert set(init_term_names) == set([i.name for i in tree.get_leaves()])\n",
    "    ###And that I'm still fully bifurcating\n",
    "    assert set([len(i.children) for i in tree.traverse() if not i.is_leaf()]) == set([2])\n",
    "    return\n",
    "\n",
    "def final_root(tree, farthest1, farthest2, max_dist):\n",
    "    \"\"\"\n",
    "    This is brutal and needs to be simplified even though it works fine\n",
    "    \"\"\"\n",
    "    ###An annoyingly convoluted way to get the path between two nodes, ignoring the dist of the LCA\n",
    "    lca = tree.get_common_ancestor(farthest1, farthest2)\n",
    "    temp_node = farthest1\n",
    "    path1 = []\n",
    "    while temp_node != lca:\n",
    "        path1.append(temp_node)\n",
    "        temp_node = temp_node.up\n",
    "    temp_node = farthest2\n",
    "    path2 = []\n",
    "    while temp_node != lca:\n",
    "        path2.append(temp_node)\n",
    "        temp_node = temp_node.up\n",
    "    path2 = path2[::-1]\n",
    "    path = path1+path2\n",
    "    \n",
    "    ###Finding the correct branch for the final root\n",
    "    counter = 0\n",
    "    for i,j in zip([i.dist for i in path], path):\n",
    "        counter += i\n",
    "        if counter < max_dist/2:\n",
    "            old_path = j\n",
    "            continue\n",
    "        else:\n",
    "            remainder = counter - (max_dist/2)\n",
    "            counter -= i\n",
    "            break\n",
    "            \n",
    "    ###Rooting the tree accordingly\n",
    "    tree.set_outgroup(old_path)\n",
    "    if tree.children == [old_path, j]:\n",
    "        total = np.sum([i.dist for i in tree.children])\n",
    "        tree.children[1].dist = remainder\n",
    "        tree.children[0].dist = total-remainder\n",
    "    else:\n",
    "        tree.set_outgroup(j)\n",
    "        total = np.sum([i.dist for i in tree.children])\n",
    "        tree.children[0].dist = remainder\n",
    "        tree.children[1].dist = total-remainder\n",
    "    return"
   ]
  },
  {
   "cell_type": "code",
   "execution_count": 39,
   "metadata": {},
   "outputs": [],
   "source": [
    "def full_describe(tree):\n",
    "    n_leaves = len(tree.get_leaves())\n",
    "    n_nodes = len([i for i in tree.traverse()])\n",
    "    total_bl = np.sum([i.dist for i in tree.traverse()])\n",
    "    return n_leaves, n_nodes, total_bl"
   ]
  },
  {
   "cell_type": "markdown",
   "metadata": {},
   "source": [
    "# Ensuring the same results as the (slower) built in ete3 mid-point method\n",
    "\n",
    "**Also worth noting that the ete3 mid-point method doesn't root at the actual mid-point of the tree but rather the mid-point of the mid-point branch**"
   ]
  },
  {
   "cell_type": "code",
   "execution_count": 38,
   "metadata": {},
   "outputs": [],
   "source": [
    "accuracies = []\n",
    "# for tree_file in glob.glob('../Data/OMA_orthologs/5204_4890/*.treefile')[:]:\n",
    "# for tree_file in glob.glob('../Data/OMA_orthologs/5204_4890_33511_33317/*.treefile')[:]:\n",
    "for tree_file in glob.glob('../Data/OMA_orthologs/5204_4890_33511_33317_33090/*.treefile')[:]:\n",
    "#     print(tree_file)\n",
    "    tree = ete3.Tree(tree_file, format=0)\n",
    "    R = tree.get_midpoint_outgroup()\n",
    "    tree.set_outgroup(R)\n",
    "    a_orig = set([i.name for i in tree.children[0].get_leaves()])\n",
    "    b_orig = set([i.name for i in tree.children[1].get_leaves()])\n",
    "    orig_desc = full_describe(tree)\n",
    "    \n",
    "    tree = ete3.Tree(tree_file, format=0)\n",
    "    MP_root_ete3(tree)\n",
    "    a_new = set([i.name for i in tree.children[0].get_leaves()])\n",
    "    b_new = set([i.name for i in tree.children[1].get_leaves()])\n",
    "    new_desc = full_describe(tree)\n",
    "    \n",
    "    assert orig_desc[:-1] == new_desc[:-1]\n",
    "    assert np.isclose(orig_desc[-1], new_desc[-1])\n",
    "    assert (a_orig==a_new and b_orig==b_new) or (a_orig==b_new and b_orig==a_new)"
   ]
  },
  {
   "cell_type": "code",
   "execution_count": null,
   "metadata": {},
   "outputs": [],
   "source": []
  }
 ],
 "metadata": {
  "kernelspec": {
   "display_name": "Python 3",
   "language": "python",
   "name": "python3"
  },
  "language_info": {
   "codemirror_mode": {
    "name": "ipython",
    "version": 3
   },
   "file_extension": ".py",
   "mimetype": "text/x-python",
   "name": "python",
   "nbconvert_exporter": "python",
   "pygments_lexer": "ipython3",
   "version": "3.7.3"
  }
 },
 "nbformat": 4,
 "nbformat_minor": 2
}
